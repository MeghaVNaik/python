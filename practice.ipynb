{
 "cells": [
  {
   "cell_type": "code",
   "execution_count": 1,
   "metadata": {},
   "outputs": [
    {
     "name": "stdout",
     "output_type": "stream",
     "text": [
      "1\n"
     ]
    }
   ],
   "source": [
    "A= 1\n",
    "print(A)"
   ]
  },
  {
   "cell_type": "code",
   "execution_count": 2,
   "metadata": {},
   "outputs": [],
   "source": [
    "firstName = \"meghana\"\n",
    "\n",
    "first_name=\"meghana\""
   ]
  },
  {
   "cell_type": "code",
   "execution_count": 2,
   "metadata": {},
   "outputs": [
    {
     "name": "stdout",
     "output_type": "stream",
     "text": [
      "[11, 99, 22, 2, 22, 221, 223, 8]\n"
     ]
    }
   ],
   "source": [
    "l1=[11,22,2,22,221,223,8]\n",
    "l1.insert(1,99)\n",
    "print(l1)"
   ]
  },
  {
   "cell_type": "code",
   "execution_count": 6,
   "metadata": {},
   "outputs": [
    {
     "name": "stdout",
     "output_type": "stream",
     "text": [
      "[11, 'hh', 22, 2, 22, 221, 223, 8]\n"
     ]
    }
   ],
   "source": [
    "l1=[11,22,2,22,221,223,8]\n",
    "l1.insert(1,\"hh\")\n",
    "print(l1)"
   ]
  },
  {
   "cell_type": "code",
   "execution_count": 7,
   "metadata": {},
   "outputs": [
    {
     "name": "stdout",
     "output_type": "stream",
     "text": [
      "[11, 22, '%$##@@', 2, 22, 221, 223, 8]\n"
     ]
    }
   ],
   "source": [
    "l1=[11,22,2,22,221,223,8]\n",
    "l1.insert(2,'%$##@@')\n",
    "print(l1)"
   ]
  },
  {
   "cell_type": "code",
   "execution_count": 12,
   "metadata": {},
   "outputs": [
    {
     "name": "stdout",
     "output_type": "stream",
     "text": [
      "[11, 2, 22, 221, 223, 8]\n"
     ]
    }
   ],
   "source": [
    "l1=[11,22,2,22,221,223,8]\n",
    "l1.remove(22)\n",
    "print(l1)"
   ]
  },
  {
   "cell_type": "code",
   "execution_count": 13,
   "metadata": {},
   "outputs": [
    {
     "data": {
      "text/plain": [
       "8"
      ]
     },
     "execution_count": 13,
     "metadata": {},
     "output_type": "execute_result"
    }
   ],
   "source": [
    "l1=[11,22,2,22,221,223,8]\n",
    "l1.pop()\n"
   ]
  },
  {
   "cell_type": "code",
   "execution_count": 14,
   "metadata": {},
   "outputs": [
    {
     "name": "stdout",
     "output_type": "stream",
     "text": [
      "[11, 22, 2, 22, 221, 223]\n"
     ]
    }
   ],
   "source": [
    "l1=[11,22,2,22,221,223,8]\n",
    "l1.pop()\n",
    "print(l1)"
   ]
  },
  {
   "cell_type": "code",
   "execution_count": 17,
   "metadata": {},
   "outputs": [
    {
     "ename": "NameError",
     "evalue": "name 'l1' is not defined",
     "output_type": "error",
     "traceback": [
      "\u001b[1;31m---------------------------------------------------------------------------\u001b[0m",
      "\u001b[1;31mNameError\u001b[0m                                 Traceback (most recent call last)",
      "\u001b[1;32m<ipython-input-17-340ce12870f6>\u001b[0m in \u001b[0;36m<module>\u001b[1;34m\u001b[0m\n\u001b[0;32m      1\u001b[0m \u001b[0ml1\u001b[0m\u001b[1;33m=\u001b[0m\u001b[1;33m[\u001b[0m\u001b[1;36m11\u001b[0m\u001b[1;33m,\u001b[0m\u001b[1;36m22\u001b[0m\u001b[1;33m,\u001b[0m\u001b[1;36m2\u001b[0m\u001b[1;33m,\u001b[0m\u001b[1;36m22\u001b[0m\u001b[1;33m,\u001b[0m\u001b[1;36m221\u001b[0m\u001b[1;33m,\u001b[0m\u001b[1;36m223\u001b[0m\u001b[1;33m,\u001b[0m\u001b[1;36m8\u001b[0m\u001b[1;33m]\u001b[0m\u001b[1;33m\u001b[0m\u001b[1;33m\u001b[0m\u001b[0m\n\u001b[0;32m      2\u001b[0m \u001b[1;32mdel\u001b[0m \u001b[0ml1\u001b[0m\u001b[1;33m\u001b[0m\u001b[1;33m\u001b[0m\u001b[0m\n\u001b[1;32m----> 3\u001b[1;33m \u001b[0mprint\u001b[0m\u001b[1;33m(\u001b[0m\u001b[0ml1\u001b[0m\u001b[1;33m)\u001b[0m\u001b[1;33m\u001b[0m\u001b[1;33m\u001b[0m\u001b[0m\n\u001b[0m",
      "\u001b[1;31mNameError\u001b[0m: name 'l1' is not defined"
     ]
    }
   ],
   "source": [
    "l1=[11,22,2,22,221,223,8]\n",
    "del l1\n",
    "print(l1)"
   ]
  },
  {
   "cell_type": "code",
   "execution_count": 19,
   "metadata": {},
   "outputs": [
    {
     "name": "stdout",
     "output_type": "stream",
     "text": [
      "[11, 22, 2, 22, 223, 8]\n"
     ]
    }
   ],
   "source": [
    "l1=[11,22,2,22,221,223,8]\n",
    "del l1[4]\n",
    "print(l1)"
   ]
  },
  {
   "cell_type": "code",
   "execution_count": 20,
   "metadata": {},
   "outputs": [
    {
     "name": "stdout",
     "output_type": "stream",
     "text": [
      "[]\n"
     ]
    }
   ],
   "source": [
    "l1=[11,22,2,22,221,223,8]\n",
    "l1.clear()\n",
    "print(l1)"
   ]
  },
  {
   "cell_type": "code",
   "execution_count": 23,
   "metadata": {},
   "outputs": [
    {
     "name": "stdout",
     "output_type": "stream",
     "text": [
      "[11, 22, 2, 22, 221, 223, 8] [11, 22, 2, 22, 221, 223, 8]\n"
     ]
    }
   ],
   "source": [
    "l1=[11,22,2,22,221,223,8]\n",
    "l2=l1.copy()\n",
    "print(l1,l2)"
   ]
  },
  {
   "cell_type": "code",
   "execution_count": 24,
   "metadata": {},
   "outputs": [
    {
     "name": "stdout",
     "output_type": "stream",
     "text": [
      "[11, 22, 2, 22, 221, 223, 8, 11, 22, 2, 22, 221, 223, 8]\n"
     ]
    }
   ],
   "source": [
    "l1=[11,22,2,22,221,223,8]\n",
    "l2=l1.copy()\n",
    "l3=l1+l2\n",
    "print(l3)"
   ]
  },
  {
   "cell_type": "code",
   "execution_count": 26,
   "metadata": {},
   "outputs": [
    {
     "name": "stdout",
     "output_type": "stream",
     "text": [
      "{2, 8, 11, 22, 221, 223}\n",
      "(11, 22, 2, 22, 221, 223, 8)\n"
     ]
    }
   ],
   "source": [
    "l1=[11,22,2,22,221,223,8]\n",
    "l2=[11,22,2,22,221,223,8]\n",
    "l3=set(l1)\n",
    "l4=tuple(l2)\n",
    "print(l3)\n",
    "print(l4)"
   ]
  },
  {
   "cell_type": "code",
   "execution_count": 30,
   "metadata": {},
   "outputs": [
    {
     "name": "stdout",
     "output_type": "stream",
     "text": [
      "list [11, 22, 2, 22, 221, 223, 8]\n",
      "tuple (11, 22, 2, 22, 221, 223, 8)\n",
      "set {2, 8, 11, 22, 221, 223}\n"
     ]
    }
   ],
   "source": [
    "l1=[11,22,2,22,221,223,8]\n",
    "l2=[11,22,2,22,221,223,8]\n",
    "l3=set(l1)\n",
    "l4=tuple(l2)\n",
    "l5=list(l1)\n",
    "print(\"list\",l5)\n",
    "print(\"tuple\",l4)\n",
    "print(\"set\",l3)"
   ]
  },
  {
   "cell_type": "code",
   "execution_count": 32,
   "metadata": {},
   "outputs": [
    {
     "name": "stdout",
     "output_type": "stream",
     "text": [
      "{'wk', 'tt', 'hhh', 'hg', 'jk', 'w'}\n"
     ]
    }
   ],
   "source": [
    "l1={'w','wk','hg','jk','hhh'}\n",
    "l1.add('tt')\n",
    "print(l1)"
   ]
  },
  {
   "cell_type": "code",
   "execution_count": 35,
   "metadata": {},
   "outputs": [
    {
     "name": "stdout",
     "output_type": "stream",
     "text": [
      "{'hhh', 'hg', 'jk', 'w'}\n"
     ]
    }
   ],
   "source": [
    "l1={'w','wk','hg','jk','hhh'}\n",
    "l1.pop()\n",
    "print(l1)"
   ]
  },
  {
   "cell_type": "code",
   "execution_count": 37,
   "metadata": {},
   "outputs": [
    {
     "data": {
      "text/plain": [
       "1"
      ]
     },
     "execution_count": 37,
     "metadata": {},
     "output_type": "execute_result"
    }
   ],
   "source": [
    "l1=('d','22','e','hj')\n",
    "l1.index('22')"
   ]
  },
  {
   "cell_type": "code",
   "execution_count": 39,
   "metadata": {},
   "outputs": [
    {
     "data": {
      "text/plain": [
       "3"
      ]
     },
     "execution_count": 39,
     "metadata": {},
     "output_type": "execute_result"
    }
   ],
   "source": [
    "l1=('d','22','22','e','22','hj')\n",
    "l1.count('22')"
   ]
  },
  {
   "cell_type": "code",
   "execution_count": 6,
   "metadata": {},
   "outputs": [
    {
     "name": "stdout",
     "output_type": "stream",
     "text": [
      "{0, 2, 4, 6, 8}\n"
     ]
    }
   ],
   "source": [
    "k={i for i in range(0,10,2)}\n",
    "print (k)"
   ]
  },
  {
   "cell_type": "code",
   "execution_count": 7,
   "metadata": {},
   "outputs": [
    {
     "ename": "SyntaxError",
     "evalue": "invalid syntax (<ipython-input-7-14ba72d95ff8>, line 1)",
     "output_type": "error",
     "traceback": [
      "\u001b[1;36m  File \u001b[1;32m\"<ipython-input-7-14ba72d95ff8>\"\u001b[1;36m, line \u001b[1;32m1\u001b[0m\n\u001b[1;33m    i for i in range(0,10,2)\u001b[0m\n\u001b[1;37m        ^\u001b[0m\n\u001b[1;31mSyntaxError\u001b[0m\u001b[1;31m:\u001b[0m invalid syntax\n"
     ]
    }
   ],
   "source": [
    "i for i in range(0,10,2)"
   ]
  },
  {
   "cell_type": "code",
   "execution_count": 9,
   "metadata": {},
   "outputs": [
    {
     "name": "stdout",
     "output_type": "stream",
     "text": [
      "{'a': 10, 'y': 34, 'o': 67, 'g': 89, 'i': 98}\n"
     ]
    }
   ],
   "source": [
    "a=['a','y','o','g','i']\n",
    "b=[10,34,67,89,98]\n",
    "a1={a[i]:b[i] for i in range(len(a))}\n",
    "print(a1)\n",
    "        "
   ]
  },
  {
   "cell_type": "code",
   "execution_count": 11,
   "metadata": {},
   "outputs": [
    {
     "name": "stdout",
     "output_type": "stream",
     "text": [
      "{'a': 10, 'y': 34, 'o': 67, 'g': 89, 'i': 98}\n"
     ]
    }
   ],
   "source": [
    "a=['a','y','o','g','i']\n",
    "b=[10,34,67,89,98]\n",
    "a3=dict(zip(a,b))\n",
    "print(a3)"
   ]
  },
  {
   "cell_type": "code",
   "execution_count": 14,
   "metadata": {},
   "outputs": [
    {
     "name": "stdout",
     "output_type": "stream",
     "text": [
      "('a', 10)\n",
      "('y', 34)\n",
      "('o', 67)\n",
      "('g', 89)\n",
      "('i', 98)\n",
      "('p', 'blank')\n"
     ]
    }
   ],
   "source": [
    "a=['a','y','o','g','i','p']\n",
    "b=[10,34,67,89,98]\n",
    "from itertools import zip_longest\n",
    "v=zip_longest(a,b,fillvalue='blank')\n",
    "for i in v:\n",
    "    print(i)"
   ]
  },
  {
   "cell_type": "code",
   "execution_count": 15,
   "metadata": {},
   "outputs": [
    {
     "name": "stdout",
     "output_type": "stream",
     "text": [
      "{0, 3, 4}\n",
      "{0, 3}\n",
      "{0, 1, 2}\n"
     ]
    }
   ],
   "source": [
    "def missing( num ):\n",
    "    #count from first number \n",
    "   # complete_list = set( range(num[0], num[-1]))\n",
    "    #Count from 0\n",
    "    complete_list = set ( range( 0, num[-1]))\n",
    "    return complete_list - set( num )\n",
    "\n",
    "\n",
    "print( missing([1,2,5,6]) )\n",
    "print( missing( [1,2,4,4]) )\n",
    "print( missing( [3,4,5]))"
   ]
  },
  {
   "cell_type": "code",
   "execution_count": 23,
   "metadata": {},
   "outputs": [
    {
     "name": "stdout",
     "output_type": "stream",
     "text": [
      "{0, 3, 4, 6}\n"
     ]
    }
   ],
   "source": [
    "def missing( num ):\n",
    "    #count from first number \n",
    "   # complete_list = set( range(num[0], num[-1]))\n",
    "    #Count from 0\n",
    "    complete_list = set ( range( 0, num[-1]))\n",
    "    return complete_list - set( num )\n",
    "\n",
    "\n",
    "print( missing([1,2,5,7]) )\n"
   ]
  },
  {
   "cell_type": "code",
   "execution_count": 19,
   "metadata": {},
   "outputs": [
    {
     "name": "stdout",
     "output_type": "stream",
     "text": [
      "{0, 1, 2}\n"
     ]
    }
   ],
   "source": [
    "num=[0,2,4,3]\n",
    "comp=0\n",
    "comp=set(range(0,num[-1]))\n",
    "print(comp)"
   ]
  },
  {
   "cell_type": "code",
   "execution_count": 2,
   "metadata": {},
   "outputs": [
    {
     "name": "stdout",
     "output_type": "stream",
     "text": [
      "Enter number: 1 5 7 3 9\n",
      "Missing Numbers are 0 2 4 6 8 "
     ]
    }
   ],
   "source": [
    "#Converting charcter  to list numbers\n",
    "def convert_char_list(num1):\n",
    "    for j in range(0,len(num1)):\n",
    "        num1[j]=int(num1[j])\n",
    "    return num1\n",
    "\n",
    "#finding largest number in list\n",
    "def lar(num):\n",
    "    num_list=convert_char_list(num)\n",
    "    l=len(num_list)\n",
    "    large=num_list[0]\n",
    "    for i in range(0,l):\n",
    "             if num_list[i]>large:\n",
    "                large=num_list[i]\n",
    "             else:\n",
    "                continue\n",
    "    return large,num_list\n",
    "\n",
    "#finding missing numbers\n",
    "num1=input(\"Enter number: \")\n",
    "numlar=num1.split()\n",
    "largest,no=lar(numlar)\n",
    "print(\"Missing Numbers are\",end=' ')\n",
    "for i in range (0,largest):\n",
    "    if i not in no:\n",
    "        print(i,end=' ')\n",
    "        \n",
    "\n",
    "        "
   ]
  },
  {
   "cell_type": "code",
   "execution_count": null,
   "metadata": {},
   "outputs": [],
   "source": [
    "# num =['12','23']\n",
    "for i in range(0,len(num)):\n",
    "        num[i]=int(num[i])\n",
    "\n",
    "        \n",
    "print(num)"
   ]
  },
  {
   "cell_type": "code",
   "execution_count": 58,
   "metadata": {},
   "outputs": [
    {
     "name": "stdout",
     "output_type": "stream",
     "text": [
      "Modified list is : [1, 4, 3, 6, 7]\n"
     ]
    }
   ],
   "source": [
    "test_list = ['1', '4', '3', '6', '7'] \n",
    "for i in range(0, len(test_list)): \n",
    "    test_list[i] = int(test_list[i]) \n",
    "      \n",
    "  \n",
    "# Printing modified list  \n",
    "print (\"Modified list is : \" + str(test_list)) "
   ]
  },
  {
   "cell_type": "code",
   "execution_count": 67,
   "metadata": {},
   "outputs": [
    {
     "name": "stdout",
     "output_type": "stream",
     "text": [
      "[1, 4, 3, 6, 7]\n"
     ]
    }
   ],
   "source": [
    "def convert_char_list(num):\n",
    "    for j in range(0,len(num)):\n",
    "        num[j]=int(num[j])\n",
    "    return num\n",
    "\n",
    "\n",
    "print(convert_char_list(['1', '4', '3', '6', '7']))"
   ]
  },
  {
   "cell_type": "code",
   "execution_count": null,
   "metadata": {},
   "outputs": [],
   "source": [
    "a=1\n",
    "print(a)"
   ]
  },
  {
   "cell_type": "code",
   "execution_count": 3,
   "metadata": {},
   "outputs": [
    {
     "name": "stdout",
     "output_type": "stream",
     "text": [
      "{1, 2, 4}\n"
     ]
    }
   ],
   "source": [
    "a=[1,2,2,4]\n",
    "b=set(a)\n",
    "print(b)"
   ]
  },
  {
   "cell_type": "code",
   "execution_count": 4,
   "metadata": {},
   "outputs": [
    {
     "name": "stdout",
     "output_type": "stream",
     "text": [
      "<class 'list'>\n"
     ]
    }
   ],
   "source": [
    "a=['1', '4', '3', '6', '7']\n",
    "print(type(a))"
   ]
  },
  {
   "cell_type": "code",
   "execution_count": 107,
   "metadata": {},
   "outputs": [
    {
     "name": "stdout",
     "output_type": "stream",
     "text": [
      "Numbers ['megha1', 'rone', 'rone', '6a', '6a', '7a', '7a', 'megha1', 'a']\n",
      "Number {'rone', 'megha1', 'a', '6a', '7a'}\n",
      "Duplicates {'rone', '6a', 'megha1', '7a'}\n"
     ]
    }
   ],
   "source": [
    "#Finding duplicates strings in list\n",
    "a=['megha1','rone','rone','6a','6a','7a','7a','megha1','a']\n",
    "b=(a)\n",
    "num=set()\n",
    "dup=set()\n",
    "print(\"Numbers\",a)\n",
    "for i in b:\n",
    "    if i not in num:\n",
    "        num.add(i)\n",
    "    else:\n",
    "        dup.add(i)\n",
    "print(\"Number\",num)\n",
    "print(\"Duplicates\",dup)"
   ]
  },
  {
   "cell_type": "code",
   "execution_count": null,
   "metadata": {},
   "outputs": [],
   "source": []
  }
 ],
 "metadata": {
  "kernelspec": {
   "display_name": "Python 3",
   "language": "python",
   "name": "python3"
  },
  "language_info": {
   "codemirror_mode": {
    "name": "ipython",
    "version": 3
   },
   "file_extension": ".py",
   "mimetype": "text/x-python",
   "name": "python",
   "nbconvert_exporter": "python",
   "pygments_lexer": "ipython3",
   "version": "3.7.4"
  }
 },
 "nbformat": 4,
 "nbformat_minor": 2
}
