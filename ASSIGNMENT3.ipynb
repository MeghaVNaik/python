{
 "cells": [
  {
   "cell_type": "markdown",
   "metadata": {},
   "source": [
    "Rename files in a directory SYNTAX:"
   ]
  },
  {
   "cell_type": "markdown",
   "metadata": {},
   "source": [
    "import os\n",
    "os.rename(r'file path\\OLD file name.file type',r'file path\\NEW file name.file type')"
   ]
  },
  {
   "cell_type": "code",
   "execution_count": 3,
   "metadata": {},
   "outputs": [],
   "source": [
    "import os\n",
    "os.rename(r'Downloads\\pythonday10.ipynb',r'Downloads\\pythondABC10.ipynb')"
   ]
  },
  {
   "cell_type": "markdown",
   "metadata": {},
   "source": [
    "RENAMING MULTIPLE FILES:"
   ]
  },
  {
   "cell_type": "code",
   "execution_count": 24,
   "metadata": {},
   "outputs": [],
   "source": [
    "import os \n",
    "def main():\n",
    "    i=0\n",
    "    path = \"C:/Users/mnaik30/Pictures/Saved Pictures/\"\n",
    "    for filename in os.listdir(path): \n",
    "        dst =\"image\" + str(i) + \".txt\"\n",
    "        src =path+ filename \n",
    "        dst =path+ dst  \n",
    "        os.rename(src, dst) \n",
    "        i += 1\n",
    "\n",
    "        \n",
    "if __name__ == '__main__': \n",
    "    main() "
   ]
  },
  {
   "cell_type": "markdown",
   "metadata": {},
   "source": [
    "SECRET MESSAGES:"
   ]
  },
  {
   "cell_type": "code",
   "execution_count": 45,
   "metadata": {},
   "outputs": [
    {
     "name": "stdout",
     "output_type": "stream",
     "text": [
      "your ciphertext is:KL JRRG PRUQLQJ\n"
     ]
    }
   ],
   "source": [
    "alphabet=['a','b','c','d','e','f','g','h','i','j','k','l','m','n','o','p','q','r','s','t','u','v','w','x','y','z']\n",
    "\n",
    "def encrypt(plaintext,secret_key):\n",
    "    ciphertext=\"\"\n",
    "    for character in plaintext:\n",
    "        if character.isalpha():\n",
    "            character=character.lower()\n",
    "            char_index=alphabet.index(character)\n",
    "            new_index=(char_index+secret_key)%26\n",
    "            cipher_char=alphabet[new_index].upper()\n",
    "        else:\n",
    "            cipher_char=character\n",
    "            \n",
    "        ciphertext +=cipher_char\n",
    "        \n",
    "    print(\"your ciphertext is:\"+ ciphertext)\n",
    "    \n",
    "    \n",
    "    \n",
    "encrypt(\"Hi good morning\",3)"
   ]
  },
  {
   "cell_type": "code",
   "execution_count": 52,
   "metadata": {},
   "outputs": [
    {
     "name": "stdout",
     "output_type": "stream",
     "text": [
      "your plain text is:hi good morning\n"
     ]
    }
   ],
   "source": [
    "alphabet=['a','b','c','d','e','f','g','h','i','j','k','l','m','n','o','p','q','r','s','t','u','v','w','x','y','z']\n",
    "def decrypt(ciphertext,secret_key):\n",
    "    plaintext=\"\"\n",
    "    for character in ciphertext:\n",
    "        if character.isalpha():\n",
    "            character=character.lower()\n",
    "            char_index=alphabet.index(character)\n",
    "            new_index=(char_index-secret_key)%26\n",
    "            plain_char=alphabet[new_index]\n",
    "        else:\n",
    "            plain_char=character\n",
    "\n",
    "        plaintext +=plain_char\n",
    "\n",
    "    print(\"your plain text is:\"+ plaintext)\n",
    "    \n",
    "    \n",
    "decrypt(\"KL JRRG PRUQLQJ\",3)   "
   ]
  },
  {
   "cell_type": "code",
   "execution_count": 55,
   "metadata": {},
   "outputs": [
    {
     "data": {
      "text/plain": [
       "True"
      ]
     },
     "execution_count": 55,
     "metadata": {},
     "output_type": "execute_result"
    }
   ],
   "source": [
    "import webbrowser\n",
    "import time\n",
    "time.sleep(3)\n",
    "webbrowser.open(\"https://www.google.com\")"
   ]
  },
  {
   "cell_type": "code",
   "execution_count": null,
   "metadata": {},
   "outputs": [],
   "source": []
  }
 ],
 "metadata": {
  "kernelspec": {
   "display_name": "Python 3",
   "language": "python",
   "name": "python3"
  },
  "language_info": {
   "codemirror_mode": {
    "name": "ipython",
    "version": 3
   },
   "file_extension": ".py",
   "mimetype": "text/x-python",
   "name": "python",
   "nbconvert_exporter": "python",
   "pygments_lexer": "ipython3",
   "version": "3.7.4"
  }
 },
 "nbformat": 4,
 "nbformat_minor": 2
}
