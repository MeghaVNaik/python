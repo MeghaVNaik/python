{
 "cells": [
  {
   "cell_type": "code",
   "execution_count": 1,
   "metadata": {},
   "outputs": [
    {
     "name": "stdout",
     "output_type": "stream",
     "text": [
      "python \n"
     ]
    }
   ],
   "source": [
    "course= \"python for beginners\"\n",
    "print(course[0:7])"
   ]
  },
  {
   "cell_type": "code",
   "execution_count": 2,
   "metadata": {},
   "outputs": [
    {
     "name": "stdout",
     "output_type": "stream",
     "text": [
      "python for begi\n"
     ]
    }
   ],
   "source": [
    "course= \"python for beginners\"\n",
    "print(course[0:-5])"
   ]
  },
  {
   "cell_type": "code",
   "execution_count": 3,
   "metadata": {},
   "outputs": [
    {
     "name": "stdout",
     "output_type": "stream",
     "text": [
      "python for begi\n"
     ]
    }
   ],
   "source": [
    "course= \"python for beginners\"\n",
    "print(course[:-5])"
   ]
  },
  {
   "cell_type": "code",
   "execution_count": 4,
   "metadata": {},
   "outputs": [
    {
     "name": "stdout",
     "output_type": "stream",
     "text": [
      "python for beginners\n"
     ]
    }
   ],
   "source": [
    "course= \"python for beginners\"\n",
    "print(course[0:])"
   ]
  },
  {
   "cell_type": "code",
   "execution_count": 5,
   "metadata": {},
   "outputs": [
    {
     "name": "stdout",
     "output_type": "stream",
     "text": [
      "ers\n"
     ]
    }
   ],
   "source": [
    "course= \"python for beginners\"\n",
    "print(course[-3:])"
   ]
  },
  {
   "cell_type": "code",
   "execution_count": 6,
   "metadata": {},
   "outputs": [
    {
     "name": "stdout",
     "output_type": "stream",
     "text": [
      "Its hot day\n",
      "Enjoy your day\n"
     ]
    }
   ],
   "source": [
    "is_hot=True\n",
    "is_cold=False\n",
    "if is_hot:\n",
    "      print(\"Its hot day\")\n",
    "elif is_cold:\n",
    "      print(\"Its cold day\")\n",
    "else:\n",
    "     print(\"Its lovely day\")\n",
    "\n",
    "print(\"Enjoy your day\")"
   ]
  },
  {
   "cell_type": "code",
   "execution_count": 8,
   "metadata": {},
   "outputs": [
    {
     "name": "stdout",
     "output_type": "stream",
     "text": [
      "ELIGIBLE\n"
     ]
    }
   ],
   "source": [
    "has_good_credit= True\n",
    "has_criminal_record=False\n",
    "if has_good_credit and not has_criminal_record:\n",
    "    print(\"ELIGIBLE\")\n"
   ]
  },
  {
   "cell_type": "code",
   "execution_count": 11,
   "metadata": {},
   "outputs": [
    {
     "name": "stdout",
     "output_type": "stream",
     "text": [
      "Enter your name Megha\n",
      "Name looks good!\n"
     ]
    }
   ],
   "source": [
    "name= input(\"Enter your name \")\n",
    "length= len(name)\n",
    "if length<3:\n",
    "   print(\"Name must be at least 3 charcters\")\n",
    "elif length>50:\n",
    "   print(\"Name must be less than or equal to 50 charcters\")\n",
    "else:\n",
    "   print(\"Name looks good!\")"
   ]
  },
  {
   "cell_type": "code",
   "execution_count": 17,
   "metadata": {},
   "outputs": [
    {
     "name": "stdout",
     "output_type": "stream",
     "text": [
      "1\n",
      "2\n",
      "3\n",
      "4\n",
      "5\n",
      "done\n"
     ]
    }
   ],
   "source": [
    "i=1\n",
    "while i<=5:\n",
    "    print(i)\n",
    "    i=i+1\n",
    "print(\"done\")\n"
   ]
  },
  {
   "cell_type": "code",
   "execution_count": 2,
   "metadata": {},
   "outputs": [
    {
     "name": "stdout",
     "output_type": "stream",
     "text": [
      "*\n",
      "**\n",
      "***\n",
      "****\n",
      "*****\n",
      "******\n"
     ]
    }
   ],
   "source": [
    "i=1\n",
    "while i<=6:\n",
    "    print('*'*i)\n",
    "    i+=1\n",
    "    \n",
    "    "
   ]
  },
  {
   "cell_type": "code",
   "execution_count": 3,
   "metadata": {},
   "outputs": [
    {
     "name": "stdout",
     "output_type": "stream",
     "text": [
      "guess 8\n",
      "Your are wrong\n",
      "guess 9\n",
      "your are correct\n"
     ]
    }
   ],
   "source": [
    "guess=9\n",
    "for i in range(3):\n",
    "    guessn=int(input(\"guess \"))\n",
    "    if guessn==guess:\n",
    "        print(\"your are correct\")\n",
    "        break\n",
    "    else:\n",
    "        print(\"Your are wrong\")\n",
    "        \n"
   ]
  },
  {
   "cell_type": "code",
   "execution_count": 4,
   "metadata": {},
   "outputs": [
    {
     "name": "stdout",
     "output_type": "stream",
     "text": [
      "sara\n"
     ]
    }
   ],
   "source": [
    "names=['john','nancy','mosh','sara']\n",
    "print(names[-1])"
   ]
  },
  {
   "cell_type": "code",
   "execution_count": 5,
   "metadata": {},
   "outputs": [
    {
     "name": "stdout",
     "output_type": "stream",
     "text": [
      "mosh\n"
     ]
    }
   ],
   "source": [
    "names=['john','nancy','mosh','sara']\n",
    "print(names[2])"
   ]
  },
  {
   "cell_type": "code",
   "execution_count": 1,
   "metadata": {},
   "outputs": [
    {
     "name": "stdout",
     "output_type": "stream",
     "text": [
      "['mosh', 'sara']\n"
     ]
    }
   ],
   "source": [
    "names=['john','nancy','mosh','sara']\n",
    "print(names[2:6])"
   ]
  },
  {
   "cell_type": "code",
   "execution_count": 2,
   "metadata": {},
   "outputs": [
    {
     "name": "stdout",
     "output_type": "stream",
     "text": [
      "[]\n"
     ]
    }
   ],
   "source": [
    "names=['john','nancy','mosh','sara']\n",
    "print(names[2:-3])"
   ]
  },
  {
   "cell_type": "code",
   "execution_count": 3,
   "metadata": {},
   "outputs": [
    {
     "name": "stdout",
     "output_type": "stream",
     "text": [
      "['mosh', 'sara']\n"
     ]
    }
   ],
   "source": [
    "names=['john','nancy','mosh','sara','magi','gigi','megi']\n",
    "print(names[2:-3])"
   ]
  },
  {
   "cell_type": "code",
   "execution_count": 6,
   "metadata": {},
   "outputs": [
    {
     "name": "stdout",
     "output_type": "stream",
     "text": [
      "It was the best of times.\n",
      "  It was the worst of times.\n"
     ]
    }
   ],
   "source": [
    "multi = \"\"\"It was the best of times.\n",
    "  It was the worst of times.\"\"\"\n",
    "print (multi)"
   ]
  },
  {
   "cell_type": "code",
   "execution_count": 7,
   "metadata": {},
   "outputs": [
    {
     "name": "stdout",
     "output_type": "stream",
     "text": [
      "h\n"
     ]
    }
   ],
   "source": [
    "multi = \"\"\"It was the best of times.\n",
    "  It was the worst of times.\"\"\"\n",
    "print (multi[8:9])"
   ]
  },
  {
   "cell_type": "code",
   "execution_count": 9,
   "metadata": {},
   "outputs": [
    {
     "name": "stdout",
     "output_type": "stream",
     "text": [
      "t of times.\n",
      "  It was the worst of times.\n"
     ]
    }
   ],
   "source": [
    "multi = \"\"\"It was the best of times.\n",
    "  It was the worst of times.\"\"\"\n",
    "print (multi[14:56])"
   ]
  },
  {
   "cell_type": "code",
   "execution_count": 10,
   "metadata": {},
   "outputs": [
    {
     "name": "stdout",
     "output_type": "stream",
     "text": [
      "It was the best of times.\n",
      "  It was the worst of times\n"
     ]
    }
   ],
   "source": [
    "multi = \"\"\"It was the best of times.\n",
    "  It was the worst of times.\"\"\"\n",
    "print (multi[-56:-1])"
   ]
  },
  {
   "cell_type": "code",
   "execution_count": 11,
   "metadata": {},
   "outputs": [
    {
     "name": "stdout",
     "output_type": "stream",
     "text": [
      "imes\n"
     ]
    }
   ],
   "source": [
    "multi = \"\"\"It was the best of times.\n",
    "  It was the worst of times.\"\"\"\n",
    "print (multi[-5:-1])"
   ]
  },
  {
   "cell_type": "code",
   "execution_count": 25,
   "metadata": {},
   "outputs": [
    {
     "name": "stdout",
     "output_type": "stream",
     "text": [
      "You are so busted\n"
     ]
    }
   ],
   "source": [
    "speed=228\n",
    "if speed >= 80: \n",
    "    print ('You are so busted')\n",
    "else:\n",
    "    print ('Have a nice day')"
   ]
  },
  {
   "cell_type": "code",
   "execution_count": null,
   "metadata": {},
   "outputs": [],
   "source": []
  }
 ],
 "metadata": {
  "kernelspec": {
   "display_name": "Python 3",
   "language": "python",
   "name": "python3"
  },
  "language_info": {
   "codemirror_mode": {
    "name": "ipython",
    "version": 3
   },
   "file_extension": ".py",
   "mimetype": "text/x-python",
   "name": "python",
   "nbconvert_exporter": "python",
   "pygments_lexer": "ipython3",
   "version": "3.7.4"
  }
 },
 "nbformat": 4,
 "nbformat_minor": 2
}
