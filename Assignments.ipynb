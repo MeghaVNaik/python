{
 "cells": [
  {
   "cell_type": "markdown",
   "metadata": {},
   "source": [
    "**Difference between compiler and interpreter**"
   ]
  },
  {
   "cell_type": "code",
   "execution_count": null,
   "metadata": {},
   "outputs": [],
   "source": [
    "BASIS FOR COMPARISON\t                        COMPILER\t                                    INTERPRETER\n",
    "-------------------------------------------------------------------------------------------------------------------------------------\n",
    "Input\t                      It takes an entire program at a time.                             It takes a single line of code                                                                                                 or instruction at a time.\n",
    "Output\t                      It generates intermediate object code.\t                        It does not produce any                                                                                                         intermediate object code.\n",
    "Working mechanism             The compilation is done before execution.\t                        Compilation and execution take                                                                                                 place simultaneously.\n",
    "Speed                         Comparatively faster\t                                            Slower\n",
    "Memory                        Memory requirement is more due to the creation of object code.\tIt requires less memory as it                                                                                                   does not create intermediate                                                                                                   object code.\n",
    "Error                         Display all errors after compilation, all at the same time.\t    Displays error of each line one                                                                                                 by one.\n",
    "Error detection\t              Difficult\t                                                        Easier comparatively\n",
    "                                        \n",
    "Pertaining                    C, C++, C#, Scala, typescript uses compiler                       PHP, Perl, Python,             Programming languages                                                                           Ruby uses an                                                                                                                   interpreter."
   ]
  },
  {
   "cell_type": "markdown",
   "metadata": {},
   "source": [
    "**HOW STRING WORKS?**"
   ]
  },
  {
   "cell_type": "markdown",
   "metadata": {},
   "source": [
    "String literals can be enclosed by either double or single quotes"
   ]
  },
  {
   "cell_type": "code",
   "execution_count": 3,
   "metadata": {},
   "outputs": [
    {
     "name": "stdout",
     "output_type": "stream",
     "text": [
      "abcjdh avsjdj\n"
     ]
    }
   ],
   "source": [
    "a=\"abcjdh\"\n",
    "b='avsjdj'\n",
    "print(a,b)"
   ]
  },
  {
   "cell_type": "markdown",
   "metadata": {},
   "source": [
    "**String methods**"
   ]
  },
  {
   "cell_type": "markdown",
   "metadata": {},
   "source": [
    "\n",
    "**s.lower(), s.upper() -- returns the lowercase or uppercase version of the string**\n",
    "\n",
    "**s.strip() -- returns a string with whitespace removed from the start and end**\n",
    "\n",
    "**s.isalpha()/s.isdigit()/s.isspace()... -- tests if all the string chars are in the various character classes**\n",
    "\n",
    "**s.startswith('other'), s.endswith('other') -- tests if the string starts or ends with the given other string**\n",
    "\n",
    "**s.find('other') -- searches for the given other string (not a regular expression) within s, and returns the first index where it begins or -1 if not found**\n",
    "\n",
    "**s.replace('old', 'new') -- returns a string where all occurrences of 'old' have been replaced by 'new'**\n",
    "\n",
    "**s.split('delim') -- returns a list of substrings separated by the given delimiter. The delimiter is not a regular expression, it's just text. 'aaa,bbb,ccc'.split(',') -> ['aaa', 'bbb', 'ccc']. As a convenient special case s.split() (with no arguments) splits on all whitespace chars.**\n",
    "\n",
    "**s.join(list) -- opposite of split(), joins the elements in the given list together using the string as the delimiter. e.g. '---'.join(['aaa', 'bbb', 'ccc']) -> aaa---bbb---ccc**"
   ]
  },
  {
   "cell_type": "markdown",
   "metadata": {},
   "source": [
    "String Slices\n",
    "The \"slice\" syntax is a handy way to refer to sub-parts of sequences -- typically strings and lists. The slice s[start:end] is the elements beginning at start and extending up to but not including end. Suppose we have s = \"Hello\"\n",
    "\n",
    "the string 'hello' with letter indexes 0 1 2 3 4\n",
    "\n",
    "s[1:4] is 'ell' -- chars starting at index 1 and extending up to but not including index 4\n",
    "s[1:] is 'ello' -- omitting either index defaults to the start or end of the string\n",
    "s[:] is 'Hello' -- omitting both always gives us a copy of the whole thing (this is the pythonic way to copy a sequence like a string or list)\n",
    "s[1:100] is 'ello' -- an index that is too big is truncated down to the string length\n",
    "s[-1] is 'o' -- last char (1st from the end)\n",
    "s[-4] is 'e' -- 4th from the end\n",
    "s[:-3] is 'He' -- going up to but not including the last 3 chars.\n",
    "s[-3:] is 'llo' -- starting with the 3rd char from the end and extending to the end of the string."
   ]
  },
  {
   "cell_type": "markdown",
   "metadata": {},
   "source": [
    "String built in functuins:\n",
    "    https://docs.python.org/3/library/stdtypes.html#string-methods"
   ]
  },
  {
   "cell_type": "code",
   "execution_count": 66,
   "metadata": {},
   "outputs": [
    {
     "ename": "SyntaxError",
     "evalue": "invalid syntax (<ipython-input-66-337ce1c3c5a6>, line 1)",
     "output_type": "error",
     "traceback": [
      "\u001b[1;36m  File \u001b[1;32m\"<ipython-input-66-337ce1c3c5a6>\"\u001b[1;36m, line \u001b[1;32m1\u001b[0m\n\u001b[1;33m    **String Methods**\u001b[0m\n\u001b[1;37m     ^\u001b[0m\n\u001b[1;31mSyntaxError\u001b[0m\u001b[1;31m:\u001b[0m invalid syntax\n"
     ]
    }
   ],
   "source": [
    "**String Methods**\n",
    "\n",
    "Python has a set of built-in methods that you can use on strings.\n",
    "\n",
    "Note: All string methods returns new values. They do not change the original string.\n",
    "\n",
    "Method\t                     Description\n",
    "capitalize()\t             Converts the first character to upper case\n",
    "casefold()\t                 Converts string into lower case\n",
    "center()\t                 Returns a centered string\n",
    "count()\t                     Returns the number of times a specified value occurs in a string\n",
    "encode()\t                 Returns an encoded version of the string\n",
    "endswith()\t                 Returns true if the string ends with the specified value\n",
    "expandtabs()\t             Sets the tab size of the string\n",
    "find()\t                     Searches the string for a specified value and returns the position of where it was found\n",
    "format()\t                 Formats specified values in a string\n",
    "format_map()\t             Formats specified values in a string\n",
    "index()\t                     Searches the string for a specified value and returns the position of where it was found\n",
    "isalnum()\t                 Returns True if all characters in the string are alphanumeric\n",
    "isalpha()\t                 Returns True if all characters in the string are in the alphabet\n",
    "isdecimal()\t                 Returns True if all characters in the string are decimals\n",
    "isdigit()\t                 Returns True if all characters in the string are digits\n",
    "isidentifier()\t             Returns True if the string is an identifier\n",
    "islower()\t                 Returns True if all characters in the string are lower case\n",
    "isnumeric()\t                 Returns True if all characters in the string are numeric\n",
    "isprintable()\t             Returns True if all characters in the string are printable\n",
    "isspace()\t                 Returns True if all characters in the string are whitespaces\n",
    "istitle()\t                 Returns True if the string follows the rules of a title\n",
    "isupper()\t                 Returns True if all characters in the string are upper case\n",
    "join()\t                     Joins the elements of an iterable to the end of the string\n",
    "ljust()\t                     Returns a left justified version of the string\n",
    "lower()\t                     Converts a string into lower case\n",
    "lstrip()\t                 Returns a left trim version of the string\n",
    "maketrans()\t                 Returns a translation table to be used in translations\n",
    "partition()\t                 Returns a tuple where the string is parted into three parts\n",
    "replace()\t                 Returns a string where a specified value is replaced with a specified value\n",
    "rfind()\t                     Searches the string for a specified value and returns the last position of where it was found\n",
    "rindex()\t                 Searches the string for a specified value and returns the last position of where it was found\n",
    "rjust()\t                     Returns a right justified version of the string\n",
    "rpartition()\t             Returns a tuple where the string is parted into three parts\n",
    "rsplit()\t                 Splits the string at the specified separator, and returns a list\n",
    "rstrip()\t                 Returns a right trim version of the string\n",
    "split()\t                     Splits the string at the specified separator, and returns a list\n",
    "splitlines()\t             Splits the string at line breaks and returns a list\n",
    "startswith()\t             Returns true if the string starts with the specified value\n",
    "strip()\t                     Returns a trimmed version of the string\n",
    "swapcase()\t                 Swaps cases, lower case becomes upper case and vice versa\n",
    "title()\t                     Converts the first character of each word to upper case\n",
    "translate()\t                 Returns a translated string\n",
    "upper()\t                     Converts a string into upper case\n",
    "zfill()\t                     Fills the string with a specified number of 0 values at the beginning"
   ]
  },
  {
   "cell_type": "markdown",
   "metadata": {},
   "source": [
    "**The ASCII Character Set**\n",
    "\n",
    "Character data is represented in a computer by using standardized numeric codes which have been developed. The most widely accepted code is called the American Standard Code for Information Interchange ( ASCII). The ASCII code associates an integer value for each symbol in the character set, such as letters, digits, punctuation marks, special characters, and control characters. Some implementations use other codes for representing characters, but we will use ASCII since it is the most widely used. The ASCII characters and their decimal code values are shown in Table 4.2. Of course, the internal machine representation of characters is in equivalent binary form.\n",
    "\n",
    "**A to Z ASCII Values 65 to 90**    \n",
    "\n",
    "**a to z ASCII Values 97 to 122**"
   ]
  },
  {
   "cell_type": "markdown",
   "metadata": {},
   "source": [
    "**Print all prime number**"
   ]
  },
  {
   "cell_type": "code",
   "execution_count": 48,
   "metadata": {},
   "outputs": [
    {
     "name": "stdout",
     "output_type": "stream",
     "text": [
      "Enter starting number: 1\n",
      "Enter a ending number: 10\n",
      "Prime numbers are :  1 2 3 5 7 "
     ]
    }
   ],
   "source": [
    "Start=int(input(\"Enter starting number: \"))\n",
    "End=int(input(\"Enter a ending number: \"))\n",
    "print(\"Prime numbers are : \",end=' ')\n",
    "for i in range(Start,End):\n",
    "    b=0\n",
    "    for j in range(2,i):\n",
    "        if i%j==0:\n",
    "            b+=1\n",
    "        else:\n",
    "            continue\n",
    "    if b>=1:\n",
    "        continue\n",
    "    else:\n",
    "        print(i,end=' ')"
   ]
  },
  {
   "cell_type": "markdown",
   "metadata": {},
   "source": [
    "**Fibonaci number**"
   ]
  },
  {
   "cell_type": "code",
   "execution_count": 42,
   "metadata": {},
   "outputs": [
    {
     "name": "stdout",
     "output_type": "stream",
     "text": [
      "Fibonaci numbers are 0 1 1 2 3 5 8 13 21 34 55 89 "
     ]
    }
   ],
   "source": [
    "fib1=0\n",
    "fib2=1\n",
    "fib3=0\n",
    "print(\"Fibonaci numbers are\",fib1,fib2,end=' ')\n",
    "for i in range(0,10):\n",
    "    fib3=fib1+fib2\n",
    "    fib1=fib2\n",
    "    fib2=fib3\n",
    "    print(fib2,end=' ')\n",
    "    "
   ]
  },
  {
   "cell_type": "markdown",
   "metadata": {},
   "source": [
    "**Perfect Numbers**"
   ]
  },
  {
   "cell_type": "code",
   "execution_count": 47,
   "metadata": {},
   "outputs": [
    {
     "name": "stdout",
     "output_type": "stream",
     "text": [
      "Enter starting number: 1\n",
      "Enter a ending number: 30\n",
      "Perfect numbers are :  6 28 "
     ]
    }
   ],
   "source": [
    "Start=int(input(\"Enter starting number: \"))\n",
    "End=int(input(\"Enter a ending number: \"))\n",
    "print(\"Perfect numbers are : \",end=' ')\n",
    "for i in range(Start,End):\n",
    "    b=0\n",
    "    for j in range(1,i):\n",
    "        if i%j==0:\n",
    "            b+=j\n",
    "        else:\n",
    "            continue\n",
    "    if b!=i:\n",
    "        continue\n",
    "    else:\n",
    "        print(i,end=' ')\n",
    "    \n",
    "\n",
    "            "
   ]
  },
  {
   "cell_type": "markdown",
   "metadata": {},
   "source": [
    "**Python Collections (Arrays)**\n",
    "\n",
    "There are four collection data types in the Python programming language:\n",
    "\n",
    "* **List** is a collection which is ordered and changeable. Allows duplicate members.\n",
    "* **Tuple** is a collection which is ordered and unchangeable. Allows duplicate members.\n",
    "* **Set** is a collection which is unordered and unindexed. No duplicate members.\n",
    "* **Dictionary** is a collection which is unordered, changeable and indexed. No duplicate members.\n",
    "\n",
    "When choosing a collection type, it is useful to understand the properties of that type. Choosing the right type for a      particular data set could mean retention of meaning, and, it could mean an increase in efficiency or security.\n",
    "\n",
    "**List**\n",
    "A list is a collection which is ordered and changeable. In Python lists are written with square brackets."
   ]
  },
  {
   "cell_type": "code",
   "execution_count": 49,
   "metadata": {},
   "outputs": [
    {
     "name": "stdout",
     "output_type": "stream",
     "text": [
      "apple\n",
      "banana\n",
      "cherry\n"
     ]
    }
   ],
   "source": [
    "thislist = [\"apple\", \"banana\", \"cherry\"]\n",
    "for x in thislist:\n",
    "  print(x)"
   ]
  },
  {
   "cell_type": "code",
   "execution_count": 50,
   "metadata": {},
   "outputs": [
    {
     "name": "stdout",
     "output_type": "stream",
     "text": [
      "Yes, 'apple' is in the fruits list\n"
     ]
    }
   ],
   "source": [
    "thislist = [\"apple\", \"banana\", \"cherry\"]\n",
    "if \"apple\" in thislist:\n",
    "  print(\"Yes, 'apple' is in the fruits list\")\n"
   ]
  },
  {
   "cell_type": "code",
   "execution_count": 51,
   "metadata": {},
   "outputs": [
    {
     "name": "stdout",
     "output_type": "stream",
     "text": [
      "3\n"
     ]
    }
   ],
   "source": [
    "thislist = [\"apple\", \"banana\", \"cherry\"]\n",
    "print(len(thislist))"
   ]
  },
  {
   "cell_type": "code",
   "execution_count": 52,
   "metadata": {},
   "outputs": [
    {
     "name": "stdout",
     "output_type": "stream",
     "text": [
      "['apple', 'banana', 'cherry', 'orange']\n"
     ]
    }
   ],
   "source": [
    "thislist = [\"apple\", \"banana\", \"cherry\"]\n",
    "thislist.append(\"orange\")\n",
    "print(thislist)"
   ]
  },
  {
   "cell_type": "code",
   "execution_count": 53,
   "metadata": {},
   "outputs": [
    {
     "name": "stdout",
     "output_type": "stream",
     "text": [
      "['apple', 'orange', 'banana', 'cherry']\n"
     ]
    }
   ],
   "source": [
    "thislist = [\"apple\", \"banana\", \"cherry\"]\n",
    "thislist.insert(1, \"orange\")\n",
    "print(thislist)"
   ]
  },
  {
   "cell_type": "code",
   "execution_count": 54,
   "metadata": {},
   "outputs": [
    {
     "name": "stdout",
     "output_type": "stream",
     "text": [
      "['apple', 'cherry']\n"
     ]
    }
   ],
   "source": [
    "thislist = [\"apple\", \"banana\", \"cherry\"]\n",
    "thislist.remove(\"banana\")\n",
    "print(thislist)"
   ]
  },
  {
   "cell_type": "code",
   "execution_count": 55,
   "metadata": {},
   "outputs": [
    {
     "name": "stdout",
     "output_type": "stream",
     "text": [
      "['apple', 'banana']\n"
     ]
    }
   ],
   "source": [
    "thislist = [\"apple\", \"banana\", \"cherry\"]\n",
    "thislist.pop()\n",
    "print(thislist)"
   ]
  },
  {
   "cell_type": "code",
   "execution_count": 56,
   "metadata": {},
   "outputs": [
    {
     "name": "stdout",
     "output_type": "stream",
     "text": [
      "['banana', 'cherry']\n"
     ]
    }
   ],
   "source": [
    "thislist = [\"apple\", \"banana\", \"cherry\"]\n",
    "del thislist[0]\n",
    "print(thislist)"
   ]
  },
  {
   "cell_type": "code",
   "execution_count": 57,
   "metadata": {},
   "outputs": [],
   "source": [
    "thislist = [\"apple\", \"banana\", \"cherry\"]\n",
    "del thislist"
   ]
  },
  {
   "cell_type": "code",
   "execution_count": 58,
   "metadata": {},
   "outputs": [
    {
     "name": "stdout",
     "output_type": "stream",
     "text": [
      "[]\n"
     ]
    }
   ],
   "source": [
    "thislist = [\"apple\", \"banana\", \"cherry\"]\n",
    "thislist.clear()\n",
    "print(thislist)"
   ]
  },
  {
   "cell_type": "code",
   "execution_count": 59,
   "metadata": {},
   "outputs": [
    {
     "name": "stdout",
     "output_type": "stream",
     "text": [
      "['apple', 'banana', 'cherry']\n"
     ]
    }
   ],
   "source": [
    "thislist = [\"apple\", \"banana\", \"cherry\"]\n",
    "mylist = thislist.copy()\n",
    "print(mylist)"
   ]
  },
  {
   "cell_type": "code",
   "execution_count": 60,
   "metadata": {},
   "outputs": [
    {
     "name": "stdout",
     "output_type": "stream",
     "text": [
      "['apple', 'banana', 'cherry']\n"
     ]
    }
   ],
   "source": [
    "thislist = [\"apple\", \"banana\", \"cherry\"]\n",
    "mylist = list(thislist)\n",
    "print(mylist)"
   ]
  },
  {
   "cell_type": "code",
   "execution_count": 61,
   "metadata": {},
   "outputs": [
    {
     "name": "stdout",
     "output_type": "stream",
     "text": [
      "['a', 'b', 'c', 1, 2, 3]\n"
     ]
    }
   ],
   "source": [
    "list1 = [\"a\", \"b\" , \"c\"]\n",
    "list2 = [1, 2, 3]\n",
    "\n",
    "list3 = list1 + list2\n",
    "print(list3)"
   ]
  },
  {
   "cell_type": "code",
   "execution_count": 62,
   "metadata": {},
   "outputs": [
    {
     "name": "stdout",
     "output_type": "stream",
     "text": [
      "['a', 'b', 'c', 1, 2, 3]\n"
     ]
    }
   ],
   "source": [
    "list1 = [\"a\", \"b\" , \"c\"]\n",
    "list2 = [1, 2, 3]\n",
    "\n",
    "for x in list2:\n",
    "  list1.append(x)\n",
    "\n",
    "print(list1)"
   ]
  },
  {
   "cell_type": "code",
   "execution_count": 64,
   "metadata": {},
   "outputs": [
    {
     "name": "stdout",
     "output_type": "stream",
     "text": [
      "['a', 'b', 'c', 1, 2, 3]\n"
     ]
    }
   ],
   "source": [
    "list1 = [\"a\", \"b\" , \"c\"]\n",
    "list2 = [1, 2, 3]\n",
    "\n",
    "list1.extend(list2)\n",
    "print(list1)"
   ]
  },
  {
   "cell_type": "code",
   "execution_count": 65,
   "metadata": {},
   "outputs": [
    {
     "name": "stdout",
     "output_type": "stream",
     "text": [
      "['apple', 'banana', 'cherry']\n"
     ]
    }
   ],
   "source": [
    "thislist = list((\"apple\", \"banana\", \"cherry\")) # note the double round-brackets\n",
    "print(thislist)"
   ]
  },
  {
   "cell_type": "markdown",
   "metadata": {},
   "source": [
    "**List Methods**\n",
    "\n",
    "**Python has a set of built-in methods that you can use on lists.**\n",
    "\n",
    "Method\t        Description\n",
    "--------------------------------------------------------------------------------------------------------------------------------\n",
    "append()\t    Adds an element at the end of the list\n",
    "clear()\t        Removes all the elements from the list\n",
    "copy()\t        Returns a copy of the list\n",
    "count()\t        Returns the number of elements with the specified value\n",
    "extend()\t    Add the elements of a list (or any iterable), to the end of the current list\n",
    "index()\t        Returns the index of the first element with the specified value\n",
    "insert()\t    Adds an element at the specified position\n",
    "pop()\t        Removes the element at the specified position\n",
    "remove()\t    Removes the item with the specified value\n",
    "reverse()\t    Reverses the order of the list\n",
    "sort()\t        Sorts the list"
   ]
  },
  {
   "cell_type": "markdown",
   "metadata": {},
   "source": [
    "**QUEUE**<br>"
   ]
  },
  {
   "cell_type": "markdown",
   "metadata": {},
   "source": [
    "**Stacks and Queues using Python**\n",
    "\n",
    "**Stacks and Queues are two key data structures often used in programming.**\n",
    "\n",
    "A queue is a FIFO data structure: First-In First-Out in other words, it is used to implement a first come first served approach.\n",
    "An item that is added (enqueue) at the end of a queue will be the last one to be accessed (dequeue).\n",
    "\n",
    "A stack is a FILO data strucutre: First-In Last-Out. \n",
    "Imagine a stack of books piled up on a table. When you add (push) a book on top of the pile, it will be the first book that you will then take (pop) from the pile (stack)."
   ]
  },
  {
   "cell_type": "code",
   "execution_count": 71,
   "metadata": {},
   "outputs": [
    {
     "name": "stdout",
     "output_type": "stream",
     "text": [
      "['Eric', 'John', 'Michael']\n",
      "> > > Queue > > >\n",
      "['John', 'Michael', 'Olivia']\n",
      "\n"
     ]
    }
   ],
   "source": [
    "print([\"Eric\", \"John\", \"Michael\"])\n",
    "\n",
    "queue = [\"Eric\", \"John\", \"Michael\"]\n",
    "queue.remove(queue[0])\n",
    "queue.append(\"Olivia\")\n",
    "\n",
    "print(\"> > > Queue > > >\")\n",
    "print(queue)\n",
    "print(\"\")\n"
   ]
  },
  {
   "cell_type": "code",
   "execution_count": 69,
   "metadata": {},
   "outputs": [
    {
     "name": "stdout",
     "output_type": "stream",
     "text": [
      "> > > Stack > > >\n",
      "['Eric', 'John', 'Olivia']\n"
     ]
    }
   ],
   "source": [
    "stack = [\"Eric\", \"John\", \"Michael\"]\n",
    "stack.pop()\n",
    "stack.append(\"Olivia\")\n",
    "\n",
    "print(\"> > > Stack > > >\")\n",
    "print(stack)"
   ]
  },
  {
   "cell_type": "code",
   "execution_count": 74,
   "metadata": {},
   "outputs": [
    {
     "name": "stdout",
     "output_type": "stream",
     "text": [
      "Reversed string is ziuQskeeG\n"
     ]
    }
   ],
   "source": [
    "# Python program to reverse a string using stack \n",
    "  \n",
    "# Function to create an empty stack.  \n",
    "# It initializes size of stack as 0 \n",
    "def createStack(): \n",
    "    stack=[] \n",
    "    return stack \n",
    "  \n",
    "# Function to determine the size of the stack \n",
    "def size(stack): \n",
    "    return len(stack) \n",
    "  \n",
    "# Stack is empty if the size is 0 \n",
    "def isEmpty(stack): \n",
    "    if size(stack) == 0: \n",
    "        return true \n",
    "  \n",
    "# Function to add an item to stack .  \n",
    "# It increases size by 1  \n",
    "def push(stack,item): \n",
    "    stack.append(item) \n",
    "  \n",
    "#Function to remove an item from stack.  \n",
    "# It decreases size by 1 \n",
    "def pop(stack): \n",
    "    if isEmpty(stack): return\n",
    "    return stack.pop() \n",
    "  \n",
    "# A stack based function to reverse a string \n",
    "def reverse(string): \n",
    "    n = len(string) \n",
    "      \n",
    "    # Create a empty stack \n",
    "    stack = createStack() \n",
    "  \n",
    "    # Push all characters of string to stack \n",
    "    for i in range(0,n,1): \n",
    "        push(stack,string[i]) \n",
    "  \n",
    "    # Making the string empty since all  \n",
    "    #characters are saved in stack  \n",
    "    string=\"\" \n",
    "  \n",
    "    # Pop all characters of string and  \n",
    "    # put them back to string \n",
    "    for i in range(0,n,1): \n",
    "        string+=pop(stack) \n",
    "          \n",
    "    return string \n",
    "      \n",
    "# Driver program to test above functions \n",
    "string=\"GeeksQuiz\"\n",
    "string = reverse(string) \n",
    "print(\"Reversed string is \" + string) \n",
    "  \n",
    "\n"
   ]
  },
  {
   "cell_type": "code",
   "execution_count": 84,
   "metadata": {},
   "outputs": [
    {
     "name": "stdout",
     "output_type": "stream",
     "text": [
      "11\n"
     ]
    }
   ],
   "source": [
    "a=[11,22,33,55,11]\n",
    "b=a[0]\n",
    "for i in range(0,4):\n",
    "    if a[0]>a[i]:\n",
    "        b=a[i]\n",
    "    else:\n",
    "        continue\n",
    "print(b)"
   ]
  },
  {
   "cell_type": "code",
   "execution_count": 97,
   "metadata": {},
   "outputs": [
    {
     "name": "stdout",
     "output_type": "stream",
     "text": [
      "11 is 2 times repeated\n"
     ]
    }
   ],
   "source": [
    "b=0\n",
    "c=0\n",
    "a=[11,22,33,55,11]\n",
    "for i in range(0,5):\n",
    "    c=0\n",
    "    for j in range(0,5):\n",
    "        if a[i]==a[j]:\n",
    "             c+=1\n",
    "        else:\n",
    "            continue\n",
    "print(a[i],\"is\",c,\"times repeated\")        \n",
    "    \n"
   ]
  },
  {
   "cell_type": "code",
   "execution_count": 101,
   "metadata": {},
   "outputs": [
    {
     "name": "stdout",
     "output_type": "stream",
     "text": [
      "[122, 45, 67, 89]\n"
     ]
    }
   ],
   "source": [
    "a=[122,45,45,67,89,45]\n",
    "a=list(dict.fromkeys(a))\n",
    "print(a)"
   ]
  },
  {
   "cell_type": "code",
   "execution_count": 106,
   "metadata": {},
   "outputs": [
    {
     "name": "stdout",
     "output_type": "stream",
     "text": [
      "{'name': 'mega', 'work': 'testing', 'anothername': 'mega'}\n"
     ]
    }
   ],
   "source": [
    "a={'name':'meg','work':'testing','name':'mega','anothername':'mega'}\n",
    "print(a)"
   ]
  },
  {
   "cell_type": "code",
   "execution_count": 110,
   "metadata": {},
   "outputs": [
    {
     "name": "stdout",
     "output_type": "stream",
     "text": [
      "Before converting list to set  ('jon', 'jon', 'ron', 'hall')\n",
      "After converting set to list ['jon', 'ron', 'hall']\n"
     ]
    }
   ],
   "source": [
    "a=('jon','jon','ron','hall')\n",
    "print(\"Before converting list to set \",a)\n",
    "b=set(a)\n",
    "a=list(b)\n",
    "print(\"After converting set to list\",a)\n",
    "\n"
   ]
  },
  {
   "cell_type": "code",
   "execution_count": null,
   "metadata": {},
   "outputs": [],
   "source": [
    "a=[1,2,3,4,8,9]\n",
    "for i in range(0:):\n",
    "    if a[i]==a[i+1]:\n",
    "        \n"
   ]
  },
  {
   "cell_type": "code",
   "execution_count": 2,
   "metadata": {},
   "outputs": [
    {
     "name": "stdout",
     "output_type": "stream",
     "text": [
      "anbvfg hjjj\n"
     ]
    }
   ],
   "source": [
    "a=\" anbvfg hjjj \"\n",
    "b=a.strip()\n",
    "print(b)"
   ]
  },
  {
   "cell_type": "code",
   "execution_count": 5,
   "metadata": {},
   "outputs": [
    {
     "name": "stdout",
     "output_type": "stream",
     "text": [
      "['ssjdj', 'djnjf', 'fhfh', 'ffff']\n"
     ]
    }
   ],
   "source": [
    "a=\"ssjdj djnjf fhfh ffff\"\n",
    "print(a.split())"
   ]
  },
  {
   "cell_type": "code",
   "execution_count": 7,
   "metadata": {},
   "outputs": [
    {
     "name": "stdout",
     "output_type": "stream",
     "text": [
      "['asdf fjdk; afed', ' fjek', 'asdf', '      foo']\n"
     ]
    }
   ],
   "source": [
    "line = 'asdf fjdk; afed, fjek,asdf,      foo'\n",
    "print(line.split(\",\"))"
   ]
  },
  {
   "cell_type": "markdown",
   "metadata": {},
   "source": [
    "1. You need to split a string into fields, but the delimiters (and spacing around them) aren’t consistent throughout the string.\n",
    "\n",
    "input: \n",
    "line = 'asdf fjdk; afed, fjek,asdf,      foo'\n",
    "\n",
    "Output:\n",
    "line = 'asdf fjdk; afed, fjek,asdf,      foo'\n"
   ]
  },
  {
   "cell_type": "code",
   "execution_count": 9,
   "metadata": {},
   "outputs": [
    {
     "data": {
      "text/plain": [
       "['asdf', 'fjdk', 'afed', 'fjek', 'asdf', 'foo']"
      ]
     },
     "execution_count": 9,
     "metadata": {},
     "output_type": "execute_result"
    }
   ],
   "source": [
    "line = 'asdf fjdk; afed, fjek,asdf,      foo'\n",
    "import re\n",
    "re.split(r'[;,\\s]\\s*', line)\n"
   ]
  },
  {
   "cell_type": "markdown",
   "metadata": {},
   "source": [
    "2. You need to perform accurate calculations with decimal numbers, and don’t want the small errors that naturally occur with floats;\n",
    "\n",
    "for example, \n",
    "a = 4.2\n",
    "b = 2.1\n",
    "a + b\n",
    "\n",
    "(a + b) == 6.3"
   ]
  },
  {
   "cell_type": "code",
   "execution_count": 12,
   "metadata": {},
   "outputs": [
    {
     "data": {
      "text/plain": [
       "True"
      ]
     },
     "execution_count": 12,
     "metadata": {},
     "output_type": "execute_result"
    }
   ],
   "source": [
    "a=4.2\n",
    "b=2.1\n",
    "round((a+b),1)==6.3\n"
   ]
  },
  {
   "cell_type": "code",
   "execution_count": 16,
   "metadata": {},
   "outputs": [
    {
     "name": "stdout",
     "output_type": "stream",
     "text": [
      "6.300000000000001\n",
      "6.3\n"
     ]
    },
    {
     "data": {
      "text/plain": [
       "True"
      ]
     },
     "execution_count": 16,
     "metadata": {},
     "output_type": "execute_result"
    }
   ],
   "source": [
    "a=4.2\n",
    "b=2.1\n",
    "c=a+b\n",
    "print(c)\n",
    "print(round((a+b),1))\n",
    "round((a+b),1)==6.3"
   ]
  },
  {
   "cell_type": "markdown",
   "metadata": {},
   "source": [
    "1. You want to round a floating-point number to a fixed number of decimal places;\n",
    "\n",
    "input: 1.23\n",
    "output: 1"
   ]
  },
  {
   "cell_type": "code",
   "execution_count": 17,
   "metadata": {},
   "outputs": [
    {
     "name": "stdout",
     "output_type": "stream",
     "text": [
      "1\n"
     ]
    }
   ],
   "source": [
    "a=1.23\n",
    "print(round(a))"
   ]
  },
  {
   "cell_type": "markdown",
   "metadata": {},
   "source": [
    "9. You need to format text with some sort of alignment applied\n",
    "\n",
    "input: \"hello\"\n",
    "\n",
    "output: \"    hello    \""
   ]
  },
  {
   "cell_type": "code",
   "execution_count": 18,
   "metadata": {},
   "outputs": [
    {
     "name": "stdout",
     "output_type": "stream",
     "text": [
      "       hello        \n"
     ]
    }
   ],
   "source": [
    "a=\"hello\"\n",
    "print(a.center(20))"
   ]
  },
  {
   "cell_type": "code",
   "execution_count": 19,
   "metadata": {},
   "outputs": [
    {
     "data": {
      "text/plain": [
       "'*******hello********'"
      ]
     },
     "execution_count": 19,
     "metadata": {},
     "output_type": "execute_result"
    }
   ],
   "source": [
    "\"hello\".center(20,'*')"
   ]
  },
  {
   "cell_type": "markdown",
   "metadata": {},
   "source": [
    "8. You want to strip unwanted characters, such as whitespace, from the beginning, end, or middle of a text string.\n",
    "\n",
    "input:\n",
    "s = '   hello world  \\n'"
   ]
  },
  {
   "cell_type": "code",
   "execution_count": 21,
   "metadata": {},
   "outputs": [
    {
     "name": "stdout",
     "output_type": "stream",
     "text": [
      "hello world\n"
     ]
    }
   ],
   "source": [
    "s = '   hello world  \\n'\n",
    "print(s.strip())"
   ]
  },
  {
   "cell_type": "markdown",
   "metadata": {},
   "source": [
    "7. You’re working with Unicode strings, but need to make sure that all of the strings have the same underlying representation.\n",
    "\n",
    "s1 = 'Spicy Jalape\\u00f1o'\n",
    "s2 = 'Spicy Jalapen\\u0303o'"
   ]
  },
  {
   "cell_type": "code",
   "execution_count": 22,
   "metadata": {},
   "outputs": [
    {
     "name": "stdout",
     "output_type": "stream",
     "text": [
      "Both are different\n"
     ]
    }
   ],
   "source": [
    "s1 = 'Spicy Jalape\\u00f1o'\n",
    "s2 = 'Spicy Jalapen\\u0303o'\n",
    "s1=len(s1)\n",
    "s2=len(s2)\n",
    "if s1==s2:\n",
    "    print(\"Both are same\")\n",
    "else:\n",
    "    print(\"Both are different\")"
   ]
  },
  {
   "cell_type": "markdown",
   "metadata": {},
   "source": [
    "6. You need to search for and possibly replace text in a case-insensitive manner.\n",
    "\n",
    "input: text = 'UPPER PYTHON, lower python, Mixed Python'\n"
   ]
  },
  {
   "cell_type": "code",
   "execution_count": 23,
   "metadata": {},
   "outputs": [
    {
     "data": {
      "text/plain": [
       "'PYTHON'"
      ]
     },
     "execution_count": 23,
     "metadata": {},
     "output_type": "execute_result"
    }
   ],
   "source": [
    "\"python\".upper()\n"
   ]
  },
  {
   "cell_type": "code",
   "execution_count": 24,
   "metadata": {},
   "outputs": [
    {
     "data": {
      "text/plain": [
       "'python'"
      ]
     },
     "execution_count": 24,
     "metadata": {},
     "output_type": "execute_result"
    }
   ],
   "source": [
    "'PYTHON'.lower()"
   ]
  },
  {
   "cell_type": "code",
   "execution_count": 25,
   "metadata": {},
   "outputs": [
    {
     "data": {
      "text/plain": [
       "'Python'"
      ]
     },
     "execution_count": 25,
     "metadata": {},
     "output_type": "execute_result"
    }
   ],
   "source": [
    "\"python\".capitalize()"
   ]
  },
  {
   "cell_type": "markdown",
   "metadata": {},
   "source": [
    "5. You want to search for and replace a text pattern in a string."
   ]
  },
  {
   "cell_type": "code",
   "execution_count": 27,
   "metadata": {},
   "outputs": [
    {
     "data": {
      "text/plain": [
       "'Hi, Good Night'"
      ]
     },
     "execution_count": 27,
     "metadata": {},
     "output_type": "execute_result"
    }
   ],
   "source": [
    "a=\"Hi, Good Morning\"\n",
    "a.replace('Morning',\"Night\")"
   ]
  },
  {
   "cell_type": "markdown",
   "metadata": {},
   "source": [
    "4. You want to match or search text for a specific pattern.\n",
    "\n",
    "input: text = 'yeah, but no, but yeah, but no, but yeah'\n"
   ]
  },
  {
   "cell_type": "code",
   "execution_count": 36,
   "metadata": {},
   "outputs": [
    {
     "data": {
      "text/plain": [
       "24"
      ]
     },
     "execution_count": 36,
     "metadata": {},
     "output_type": "execute_result"
    }
   ],
   "source": [
    "text = 'yeah, but no, but yeah, but no, but yeah'\n",
    "text.find(\"but\",15)"
   ]
  },
  {
   "cell_type": "markdown",
   "metadata": {},
   "source": [
    "Finding missing elements in list"
   ]
  },
  {
   "cell_type": "code",
   "execution_count": 37,
   "metadata": {},
   "outputs": [
    {
     "name": "stdout",
     "output_type": "stream",
     "text": [
      "The original list : [3, 5, 6, 8, 10]\n",
      "The list of missing elements : [0, 1, 2, 4, 7, 9]\n"
     ]
    }
   ],
   "source": [
    "# Python3 code to demonstrate \n",
    "# Finding missing elements in List \n",
    "# using list comprehension \n",
    "  \n",
    "# initializing list \n",
    "test_list = [3, 5, 6, 8, 10] \n",
    "  \n",
    "# printing original list \n",
    "print(\"The original list : \" + str(test_list)) \n",
    "  \n",
    "# using list comprehension \n",
    "# Finding missing elements in List \n",
    "res = [ele for ele in range(max(test_list)+1) if ele not in test_list] \n",
    "  \n",
    "# print result \n",
    "print(\"The list of missing elements : \" + str(res))"
   ]
  },
  {
   "cell_type": "code",
   "execution_count": 39,
   "metadata": {},
   "outputs": [
    {
     "name": "stdout",
     "output_type": "stream",
     "text": [
      "[10, 29, 56, 12, 10, 25]\n"
     ]
    }
   ],
   "source": [
    "l1=[10,29,56]\n",
    "l2=[12,10,25]\n",
    "print(l1+l2)"
   ]
  },
  {
   "cell_type": "code",
   "execution_count": 65,
   "metadata": {},
   "outputs": [
    {
     "name": "stdout",
     "output_type": "stream",
     "text": [
      "[12]\n"
     ]
    }
   ],
   "source": [
    "l1=[12,34,45,67,12]\n",
    "size=len(l1)\n",
    "dup=[]\n",
    "for i in range(size):\n",
    "    k=i+1\n",
    "    for j in range(k,size):\n",
    "        if l1[i]==l1[j] and l1[i] not in  dup:\n",
    "            dup.append(l1[i])\n",
    "            \n",
    "print(dup)"
   ]
  },
  {
   "cell_type": "code",
   "execution_count": 51,
   "metadata": {},
   "outputs": [
    {
     "name": "stdout",
     "output_type": "stream",
     "text": [
      "[20, 30, -20, 60]\n"
     ]
    }
   ],
   "source": [
    "def Repeat(x): \n",
    "    _size = len(x) \n",
    "    repeated = [] \n",
    "    for i in range(_size): \n",
    "        k = i + 1\n",
    "        for j in range(k, _size): \n",
    "            if x[i] == x[j] and x[i] not in repeated: \n",
    "                repeated.append(x[i]) \n",
    "    return repeated \n",
    "  \n",
    "# Driver Code \n",
    "list1 = [10, 20, 30, 20, 20, 30, 40,  \n",
    "         50, -20, 60, 60, -20, -20] \n",
    "print (Repeat(list1)) \n",
    "      "
   ]
  },
  {
   "cell_type": "code",
   "execution_count": null,
   "metadata": {},
   "outputs": [],
   "source": []
  }
 ],
 "metadata": {
  "kernelspec": {
   "display_name": "Python 3",
   "language": "python",
   "name": "python3"
  },
  "language_info": {
   "codemirror_mode": {
    "name": "ipython",
    "version": 3
   },
   "file_extension": ".py",
   "mimetype": "text/x-python",
   "name": "python",
   "nbconvert_exporter": "python",
   "pygments_lexer": "ipython3",
   "version": "3.7.4"
  }
 },
 "nbformat": 4,
 "nbformat_minor": 2
}
