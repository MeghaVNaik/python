{
 "cells": [
  {
   "cell_type": "code",
   "execution_count": 1,
   "metadata": {},
   "outputs": [
    {
     "name": "stdout",
     "output_type": "stream",
     "text": [
      "1\n"
     ]
    }
   ],
   "source": [
    "A= 1\n",
    "print(A)"
   ]
  },
  {
   "cell_type": "code",
   "execution_count": 2,
   "metadata": {},
   "outputs": [],
   "source": [
    "firstName = \"meghana\"\n",
    "\n",
    "first_name=\"meghana\""
   ]
  },
  {
   "cell_type": "code",
   "execution_count": 5,
   "metadata": {},
   "outputs": [
    {
     "name": "stdout",
     "output_type": "stream",
     "text": [
      "0\n",
      "1\n"
     ]
    }
   ],
   "source": [
    "for i in range(0,5):\n",
    "    if i==2:\n",
    "        break\n",
    "    else:\n",
    "        print(i)"
   ]
  },
  {
   "cell_type": "code",
   "execution_count": 7,
   "metadata": {},
   "outputs": [
    {
     "name": "stdout",
     "output_type": "stream",
     "text": [
      "0\n",
      "9\n",
      "18\n"
     ]
    }
   ],
   "source": [
    "for i in range(0,19,9):\n",
    "    if i==2:\n",
    "        break\n",
    "    else:\n",
    "        print(i)"
   ]
  },
  {
   "cell_type": "code",
   "execution_count": 9,
   "metadata": {},
   "outputs": [],
   "source": [
    "for i in range(0,5):\n",
    "    if i==2:\n",
    "        continue\n",
    "    else:\n",
    "        break\n",
    "    \n",
    "        \n",
    "        "
   ]
  },
  {
   "cell_type": "code",
   "execution_count": 11,
   "metadata": {},
   "outputs": [
    {
     "name": "stdout",
     "output_type": "stream",
     "text": [
      "0\n",
      "7\n",
      "14\n",
      "21\n",
      "28\n",
      "35\n",
      "42\n",
      "49\n"
     ]
    }
   ],
   "source": [
    "for i in range(0,56,7):\n",
    "    if i==2:\n",
    "        break\n",
    "    else:\n",
    "        print(i)"
   ]
  },
  {
   "cell_type": "code",
   "execution_count": null,
   "metadata": {},
   "outputs": [],
   "source": [
    "## Python Collections (Arrays)\n",
    "## There are four collection data types in the Python programming language:\n",
    "\n",
    "## List is a collection which is ordered and changeable. Allows duplicate members.\n",
    "## Tuple is a collection which is ordered and unchangeable. Allows duplicate members.\n",
    "## Set is a collection which is unordered and unindexed. No duplicate members.\n",
    "## Dictionary is a collection which is unordered, changeable and indexed. No duplicate members."
   ]
  },
  {
   "cell_type": "code",
   "execution_count": 6,
   "metadata": {},
   "outputs": [
    {
     "name": "stdout",
     "output_type": "stream",
     "text": [
      "Before reversing\n",
      "meghavinayaknaik\n",
      "After sting\n",
      "kiankayanivahgem \n"
     ]
    }
   ],
   "source": [
    "#Reverse string\n",
    "def reverse(s):\n",
    "    str=\" \"\n",
    "    for i in s:\n",
    "        str=i+str\n",
    "    return str\n",
    "\n",
    "\n",
    "s=\"meghavinayaknaik\"\n",
    "print(\"Before reversing\\n\"+s)\n",
    "print(\"After sting\")\n",
    "print(reverse(s))\n",
    "    "
   ]
  },
  {
   "cell_type": "code",
   "execution_count": 12,
   "metadata": {},
   "outputs": [
    {
     "name": "stdout",
     "output_type": "stream",
     "text": [
      "The original string  is : Geeksforgeeks\n",
      "The reversed string(using recursion) is : skeegrofskeeG\n"
     ]
    }
   ],
   "source": [
    "def reverse(s): \n",
    "    if len(s) == 0: \n",
    "        return s \n",
    "    else: \n",
    "        return reverse(s[1:]) + s[0] \n",
    "\n",
    "s = \"Geeksforgeeks\"\n",
    "  \n",
    "print (\"The original string  is : \",end=\"\") \n",
    "print (s) \n",
    "  \n",
    "print (\"The reversed string(using recursion) is : \",end=\"\") \n",
    "print (reverse(s))"
   ]
  },
  {
   "cell_type": "code",
   "execution_count": 13,
   "metadata": {},
   "outputs": [
    {
     "name": "stdout",
     "output_type": "stream",
     "text": [
      "mm\n"
     ]
    }
   ],
   "source": [
    "a=\"mm\"\n",
    "print(a)"
   ]
  },
  {
   "cell_type": "code",
   "execution_count": 15,
   "metadata": {},
   "outputs": [
    {
     "name": "stdout",
     "output_type": "stream",
     "text": [
      "eghsm\n"
     ]
    }
   ],
   "source": [
    "s=\"meghs\"\n",
    "d=(s[1:])+s[0]\n",
    "print(d)"
   ]
  },
  {
   "cell_type": "code",
   "execution_count": 21,
   "metadata": {},
   "outputs": [
    {
     "name": "stdout",
     "output_type": "stream",
     "text": [
      "shgem\n"
     ]
    }
   ],
   "source": [
    "s=\"meghs\"\n",
    "d=s[::-1]\n",
    "print(d)"
   ]
  },
  {
   "cell_type": "code",
   "execution_count": 22,
   "metadata": {},
   "outputs": [
    {
     "name": "stdout",
     "output_type": "stream",
     "text": [
      "megh\n"
     ]
    }
   ],
   "source": [
    "s=\"meghs\"\n",
    "d=s[:-1]\n",
    "print(d)"
   ]
  },
  {
   "cell_type": "code",
   "execution_count": 23,
   "metadata": {},
   "outputs": [
    {
     "name": "stdout",
     "output_type": "stream",
     "text": [
      "s\n"
     ]
    }
   ],
   "source": [
    "s=\"meghs\"\n",
    "d=s[-1:]\n",
    "print(d)"
   ]
  },
  {
   "cell_type": "code",
   "execution_count": 27,
   "metadata": {},
   "outputs": [
    {
     "name": "stdout",
     "output_type": "stream",
     "text": [
      "eghsuuuuuuuuuuuuu\n"
     ]
    }
   ],
   "source": [
    "s=\"meghsuuuuuuuuuuuuu\"\n",
    "d=s[1:]\n",
    "print(d)"
   ]
  },
  {
   "cell_type": "code",
   "execution_count": null,
   "metadata": {},
   "outputs": [],
   "source": [
    "#Stacks and Queues are two key data structures often used in programming.\n",
    "\n",
    "#A queue is a FIFO data structure: First-In First-Out in other words, it is used to implement a first come first served approach. An item that is added (enqueue) at the end of a queue will be the last one to be accessed (dequeue).\n",
    "\n",
    "#A stack is a FILO data strucutre: First-In Last-Out. Imagine a stack of books piled up on a table. When you add (push) a book on top of the pile, it will be the first book that you will then take (pop) from the pile (stack).\n",
    "\n",
    "#Both stacks and queues can easily be implemented in Python using a list and the append(), pop() and remove() functions."
   ]
  },
  {
   "cell_type": "code",
   "execution_count": 28,
   "metadata": {},
   "outputs": [
    {
     "name": "stdout",
     "output_type": "stream",
     "text": [
      "['Eric', 'John', 'Michael']\n",
      "\n",
      "> > > Queue > > >\n",
      "['John', 'Michael', 'Olivia']\n",
      "\n",
      "> > > Stack > > >\n",
      "['Eric', 'John', 'Olivia']\n"
     ]
    }
   ],
   "source": [
    "#Stack and Queues using Python - www.101computing.net/stacks-and-queues-using-python/\n",
    "\n",
    "print([\"Eric\", \"John\", \"Michael\"])\n",
    "print(\"\")\n",
    "\n",
    "queue = [\"Eric\", \"John\", \"Michael\"]\n",
    "queue.remove(queue[0])\n",
    "queue.append(\"Olivia\")\n",
    "\n",
    "print(\"> > > Queue > > >\")\n",
    "print(queue)\n",
    "print(\"\")\n",
    "\n",
    "\n",
    "stack = [\"Eric\", \"John\", \"Michael\"]\n",
    "stack.pop()\n",
    "stack.append(\"Olivia\")\n",
    "\n",
    "print(\"> > > Stack > > >\")\n",
    "print(stack)"
   ]
  },
  {
   "cell_type": "code",
   "execution_count": 30,
   "metadata": {},
   "outputs": [
    {
     "name": "stdout",
     "output_type": "stream",
     "text": [
      "v, k, i, a, n, a, h, g, e, m, "
     ]
    }
   ],
   "source": [
    "# Python3 program to reverse a queue  \n",
    "from queue import Queue  \n",
    "  \n",
    "# Utility function to print the queue  \n",
    "def Print(queue): \n",
    "    while (not queue.empty()): \n",
    "        print(queue.queue[0], end = \", \")  \n",
    "        queue.get() \n",
    "  \n",
    "# Function to reverse the queue  \n",
    "def reversequeue(queue): \n",
    "    Stack = []  \n",
    "    while (not queue.empty()):  \n",
    "        Stack.append(queue.queue[0])  \n",
    "        queue.get() \n",
    "    while (len(Stack) != 0):  \n",
    "        queue.put(Stack[-1])  \n",
    "        Stack.pop() \n",
    "  \n",
    "# Driver code  \n",
    "if __name__ == '__main__': \n",
    "    queue = Queue() \n",
    "    queue.put('m')  \n",
    "    queue.put('e')  \n",
    "    queue.put('g')  \n",
    "    queue.put('h')  \n",
    "    queue.put('a')  \n",
    "    queue.put('n')  \n",
    "    queue.put('a')  \n",
    "    queue.put('i')  \n",
    "    queue.put('k')  \n",
    "    queue.put('v')  \n",
    "  \n",
    "    reversequeue(queue)  \n",
    "    Print(queue) \n",
    "  "
   ]
  },
  {
   "cell_type": "code",
   "execution_count": null,
   "metadata": {},
   "outputs": [],
   "source": [
    "#Reversing a Queue\n",
    "Give an algorithm for reversing a queue Q. Only following standard operations are allowed on queue.\n",
    "\n",
    "enqueue(x) : Add an item x to rear of queue.\n",
    "dequeue() : Remove an item from front of queue.\n",
    "empty() : Checks if a queue is empty or not."
   ]
  },
  {
   "cell_type": "code",
   "execution_count": null,
   "metadata": {},
   "outputs": [],
   "source": []
  }
 ],
 "metadata": {
  "kernelspec": {
   "display_name": "Python 3",
   "language": "python",
   "name": "python3"
  },
  "language_info": {
   "codemirror_mode": {
    "name": "ipython",
    "version": 3
   },
   "file_extension": ".py",
   "mimetype": "text/x-python",
   "name": "python",
   "nbconvert_exporter": "python",
   "pygments_lexer": "ipython3",
   "version": "3.7.4"
  }
 },
 "nbformat": 4,
 "nbformat_minor": 2
}
