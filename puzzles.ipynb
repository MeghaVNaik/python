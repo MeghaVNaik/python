{
 "cells": [
  {
   "cell_type": "code",
   "execution_count": 1,
   "metadata": {},
   "outputs": [
    {
     "name": "stdout",
     "output_type": "stream",
     "text": [
      "b\n",
      "a\n",
      "n\n",
      "a\n",
      "n\n",
      "a\n"
     ]
    }
   ],
   "source": [
    "mystr = \"banana\"\n",
    "\n",
    "for x in mystr:\n",
    "  print(x)"
   ]
  },
  {
   "cell_type": "code",
   "execution_count": 3,
   "metadata": {},
   "outputs": [
    {
     "name": "stdout",
     "output_type": "stream",
     "text": [
      "banana\n",
      "mango\n",
      "apple\n"
     ]
    }
   ],
   "source": [
    "mystr = [\"banana\",\"mango\",\"apple\"]\n",
    "\n",
    "for x in mystr:\n",
    "  print(x)"
   ]
  },
  {
   "cell_type": "code",
   "execution_count": 4,
   "metadata": {},
   "outputs": [
    {
     "name": "stdout",
     "output_type": "stream",
     "text": [
      "banana\n",
      "mango\n",
      "apple\n"
     ]
    }
   ],
   "source": [
    "mystr = {\"banana\",\"mango\",\"apple\"}\n",
    "\n",
    "for x in mystr:\n",
    "  print(x)"
   ]
  },
  {
   "cell_type": "code",
   "execution_count": 5,
   "metadata": {},
   "outputs": [
    {
     "name": "stdout",
     "output_type": "stream",
     "text": [
      "banana\n",
      "mango\n",
      "apple\n"
     ]
    }
   ],
   "source": [
    "mystr = (\"banana\",\"mango\",\"apple\")\n",
    "\n",
    "for x in mystr:\n",
    "  print(x)"
   ]
  },
  {
   "cell_type": "code",
   "execution_count": 1,
   "metadata": {},
   "outputs": [
    {
     "name": "stdout",
     "output_type": "stream",
     "text": [
      "apple\n",
      "banana\n",
      "cherry\n"
     ]
    }
   ],
   "source": [
    "mytuple = (\"apple\", \"banana\", \"cherry\")\n",
    "myit = iter(mytuple)\n",
    "\n",
    "print(next(myit))\n",
    "print(next(myit))\n",
    "print(next(myit))"
   ]
  },
  {
   "cell_type": "code",
   "execution_count": 8,
   "metadata": {},
   "outputs": [
    {
     "name": "stdout",
     "output_type": "stream",
     "text": [
      "1 2 3 4 5 "
     ]
    }
   ],
   "source": [
    "class MyNumbers:\n",
    "  def __iter__(self):\n",
    "    self.a = 1\n",
    "    return self\n",
    "\n",
    "  def __next__(self):\n",
    "    x = self.a\n",
    "    self.a += 1\n",
    "    return x\n",
    "\n",
    "myclass = MyNumbers()\n",
    "myiter = iter(myclass)\n",
    "\n",
    "print(next(myiter),end=\" \")\n",
    "print(next(myiter),end=\" \")\n",
    "print(next(myiter),end=\" \")\n",
    "print(next(myiter),end=\" \")\n",
    "print(next(myiter),end=\" \")"
   ]
  },
  {
   "cell_type": "code",
   "execution_count": 5,
   "metadata": {},
   "outputs": [
    {
     "name": "stdout",
     "output_type": "stream",
     "text": [
      "1 2 3 4 5 6 7 8 9 10 11 12 13 14 15 16 17 18 19 20 "
     ]
    }
   ],
   "source": [
    "class MyNumbers:\n",
    "  def __iter__(self):\n",
    "    self.a = 1\n",
    "    return self\n",
    "\n",
    "  def __next__(self):\n",
    "    if self.a <= 20:\n",
    "      x = self.a\n",
    "      self.a += 1\n",
    "      return x\n",
    "    else:\n",
    "      raise StopIteration\n",
    "\n",
    "myclass = MyNumbers()\n",
    "myiter = iter(myclass)\n",
    "\n",
    "for x in myiter:\n",
    "  print(x,end=\" \")"
   ]
  },
  {
   "cell_type": "code",
   "execution_count": 28,
   "metadata": {},
   "outputs": [
    {
     "name": "stdout",
     "output_type": "stream",
     "text": [
      "[3, 4, 4, 6]\n",
      "[11, 8, 7, 12]\n",
      "12\n",
      "2\n",
      "[11, 8, 71, 15]\n",
      "71\n",
      "1\n",
      "[12, 91, 12, 17]\n",
      "91\n",
      "0\n",
      "12\n",
      "-1\n",
      "False\n"
     ]
    }
   ],
   "source": [
    "def matrix_find(matrix, value):\n",
    "    if not matrix or not matrix[0]: \n",
    "        return False\n",
    "    j = len(matrix) - 1 \n",
    "    for row in matrix:\n",
    "        print(row)\n",
    "        while row[j] > value:\n",
    "            print(row[j])\n",
    "            j = j - 1 \n",
    "            print(j)\n",
    "            if j == -1:\n",
    "                return False \n",
    "        if row[j] == value:\n",
    "            return True \n",
    "    return False\n",
    "    \n",
    "    \n",
    "matrix = [[3, 4, 4, 6],\n",
    "          [11, 8, 7, 12],\n",
    "          [11, 8, 71, 15],\n",
    "          [12, 91, 12, 17]] \n",
    "print(matrix_find(matrix=matrix, value=11))"
   ]
  },
  {
   "cell_type": "code",
   "execution_count": 19,
   "metadata": {},
   "outputs": [
    {
     "name": "stdout",
     "output_type": "stream",
     "text": [
      "11 has been repeated 3 times\n"
     ]
    }
   ],
   "source": [
    "matrix = [[3, 4, 4, 6],\n",
    "          [6, 8, 11, 12],\n",
    "          [6, 8, 11, 15],\n",
    "          [9, 11, 12, 17]] \n",
    "l=11\n",
    "count=0\n",
    "for r in matrix:\n",
    "    if l in r:\n",
    "      count+=1\n",
    "    else:\n",
    "        continue\n",
    "print(l, \"has been repeated\",count,\"times\")\n",
    "    \n",
    "    "
   ]
  },
  {
   "cell_type": "code",
   "execution_count": 24,
   "metadata": {},
   "outputs": [
    {
     "name": "stdout",
     "output_type": "stream",
     "text": [
      "yes\n",
      "yes\n",
      "yes\n"
     ]
    }
   ],
   "source": [
    "matrix = [[3, 4, 4, 6],\n",
    "          [6, 8, 11, 12],\n",
    "          [6, 8, 11, 15],\n",
    "          [9, 11, 12, 1]]\n",
    "l=11           \n",
    "for r in matrix:\n",
    "           if l in r:\n",
    "              print(\"yes\")\n"
   ]
  },
  {
   "cell_type": "code",
   "execution_count": 30,
   "metadata": {},
   "outputs": [
    {
     "name": "stdout",
     "output_type": "stream",
     "text": [
      "18.0\n"
     ]
    }
   ],
   "source": [
    "x = 5 * 3.8 - 1 \n",
    "print(x)\n"
   ]
  },
  {
   "cell_type": "code",
   "execution_count": 34,
   "metadata": {},
   "outputs": [
    {
     "data": {
      "text/plain": [
       "19.0"
      ]
     },
     "execution_count": 34,
     "metadata": {},
     "output_type": "execute_result"
    }
   ],
   "source": [
    "x=5*3.8\n",
    "x"
   ]
  },
  {
   "cell_type": "code",
   "execution_count": 38,
   "metadata": {},
   "outputs": [
    {
     "name": "stdout",
     "output_type": "stream",
     "text": [
      "mid 3\n",
      "lo 4\n",
      "mid 5\n",
      "lo 6\n",
      "mid 6\n",
      "6\n"
     ]
    }
   ],
   "source": [
    "def bsearch(l, value): \n",
    "    lo, hi = 0, len(l)-1 \n",
    "    while lo <= hi: \n",
    "        mid = (lo + hi) // 2 \n",
    "        print(\"mid\",mid)\n",
    "        if l[mid] < value: \n",
    "            lo = mid + 1\n",
    "            print(\"lo\",lo)\n",
    "        elif value < l[mid]: \n",
    "            hi = mid - 1\n",
    "            print(\"hi\",hi)\n",
    "        else: \n",
    "            return mid\n",
    "    return -1\n",
    "\n",
    "\n",
    "l = [0, 1, 2, 3, 4, 5, 6] \n",
    "x = 6 \n",
    "print(bsearch(l,x))\n"
   ]
  },
  {
   "cell_type": "code",
   "execution_count": 39,
   "metadata": {},
   "outputs": [
    {
     "name": "stdout",
     "output_type": "stream",
     "text": [
      "mid 3\n",
      "lo 4\n",
      "mid 5\n",
      "lo 6\n",
      "mid 6\n",
      "6\n"
     ]
    }
   ],
   "source": [
    "def bsearch(l, value): \n",
    "    lo, hi = 0, len(l)-1 \n",
    "    while lo <= hi: \n",
    "        mid = (lo + hi) // 2 \n",
    "        print(\"mid\",mid)\n",
    "        if l[mid] < value: \n",
    "            lo = mid + 1\n",
    "            print(\"lo\",lo)\n",
    "        elif value < l[mid]: \n",
    "            hi = mid - 1\n",
    "            print(\"hi\",hi)\n",
    "        else: \n",
    "            return mid\n",
    "    return -1\n",
    "\n",
    "\n",
    "l = [0, 1, 2, 3, 4, 5, 6] \n",
    "x = 6 \n",
    "print(bsearch(l,x))\n"
   ]
  },
  {
   "cell_type": "code",
   "execution_count": null,
   "metadata": {},
   "outputs": [],
   "source": [
    "def search(l,value):\n",
    "    \n",
    "    for i in l:\n",
    "        if i<value or value<i:\n",
    "            continue\n",
    "        else:\n",
    "            return i\n",
    "            \n",
    "        \n",
    "l = [0, 1, 2, 3, 4, 8, 6,19] \n",
    "x = 8\n",
    "print(search(l,x))\n",
    "       "
   ]
  },
  {
   "cell_type": "code",
   "execution_count": 2,
   "metadata": {},
   "outputs": [
    {
     "name": "stdout",
     "output_type": "stream",
     "text": [
      "['orangeee', 'apple', 'orangeee', 'grapes']\n"
     ]
    }
   ],
   "source": [
    "words=[\"apple\",\"orangeee\",\"grapes\"]\n",
    "for word in words[:]:\n",
    "     if len(word)>7:\n",
    "        words.insert(0,word)\n",
    "        \n",
    "print(words)"
   ]
  },
  {
   "cell_type": "code",
   "execution_count": 3,
   "metadata": {},
   "outputs": [
    {
     "name": "stdout",
     "output_type": "stream",
     "text": [
      "42\n",
      "43\n"
     ]
    }
   ],
   "source": [
    "def make_incrementor(n): \n",
    "    return lambda x: x + n\n",
    "\n",
    "f = make_incrementor(42) \n",
    "print(f(0)) \n",
    "print(f(1))\n",
    "\n"
   ]
  },
  {
   "cell_type": "code",
   "execution_count": 10,
   "metadata": {},
   "outputs": [
    {
     "name": "stdout",
     "output_type": "stream",
     "text": [
      "True\n"
     ]
    }
   ],
   "source": [
    "print(\"\"\"\n",
    "A\n",
    "B\n",
    "C\n",
    "\"\"\" == \"\\nA\\nB\\nC\\n\")\n"
   ]
  },
  {
   "cell_type": "code",
   "execution_count": 13,
   "metadata": {},
   "outputs": [
    {
     "name": "stdout",
     "output_type": "stream",
     "text": [
      "True\n"
     ]
    }
   ],
   "source": [
    "print(\"\"\"\n",
    "A\n",
    "B\n",
    "C\n",
    "\"\"\" == \"\\nA\\nB\\nC\\n\")\n"
   ]
  },
  {
   "cell_type": "code",
   "execution_count": 16,
   "metadata": {},
   "outputs": [
    {
     "name": "stdout",
     "output_type": "stream",
     "text": [
      "P\"yt'h\"on\n"
     ]
    }
   ],
   "source": [
    "print('P\"yt\\'h\"on')"
   ]
  },
  {
   "cell_type": "code",
   "execution_count": 20,
   "metadata": {},
   "outputs": [
    {
     "name": "stdout",
     "output_type": "stream",
     "text": [
      "True 89 55 34\n"
     ]
    }
   ],
   "source": [
    "def fibo(n):\n",
    "    result = []\n",
    "    a, b = 0, 1 \n",
    "    while a < n: \n",
    "        result.append(a) \n",
    "        a, b = b, a + b \n",
    "    return result\n",
    "\n",
    "\n",
    "fib100 = fibo(100) \n",
    "print(fib100[-1] == fib100[-2] + fib100[-3],fib100[-1],fib100[-2],fib100[-3])\n",
    "\n"
   ]
  },
  {
   "cell_type": "code",
   "execution_count": 26,
   "metadata": {},
   "outputs": [
    {
     "data": {
      "text/plain": [
       "<generator object <genexpr> at 0x000002509FB6EF48>"
      ]
     },
     "execution_count": 26,
     "metadata": {},
     "output_type": "execute_result"
    }
   ],
   "source": [
    "(i for i in range(1,3))\n",
    "               "
   ]
  },
  {
   "cell_type": "code",
   "execution_count": 29,
   "metadata": {},
   "outputs": [
    {
     "name": "stdout",
     "output_type": "stream",
     "text": [
      "[0, 22, 33]\n",
      "[0, 33, 22]\n"
     ]
    }
   ],
   "source": [
    "def qsort1(L): \n",
    "    if L: \n",
    "        return qsort1([x for x in L[1:] if x < L[0]]) + L[:1]  + qsort1([x for x in L[1:] if x >= L[0]])\n",
    "    return []\n",
    "\n",
    "\n",
    "def qsort2(L): \n",
    "    if L: \n",
    "        return L[:1] + qsort2([x for x in L[1:] if x < L[0]])  + qsort2([x for x in L[1:] if x >= L[0]])\n",
    "    return []\n",
    "\n",
    "\n",
    "print(qsort1([0, 33, 22]))\n",
    "print(qsort2([0, 33, 22]))\n"
   ]
  },
  {
   "cell_type": "code",
   "execution_count": null,
   "metadata": {},
   "outputs": [],
   "source": [
    "print(\"Answer\") \n",
    "while True: \n",
    "    pass \n",
    "print(\"42\")"
   ]
  },
  {
   "cell_type": "code",
   "execution_count": 1,
   "metadata": {},
   "outputs": [
    {
     "name": "stdout",
     "output_type": "stream",
     "text": [
      "h\n"
     ]
    }
   ],
   "source": [
    "print(\"h\")"
   ]
  },
  {
   "cell_type": "code",
   "execution_count": 2,
   "metadata": {},
   "outputs": [
    {
     "name": "stdout",
     "output_type": "stream",
     "text": [
      "Enter the first number23\n",
      "Enter the first number56\n",
      "56 23\n"
     ]
    }
   ],
   "source": [
    "num1=input(\"Enter the first number\")\n",
    "num2=input(\"Enter the first number\")\n",
    "if num1>num2:\n",
    "    print(num1,num2)\n",
    "else:\n",
    "    print(num2,num1)"
   ]
  },
  {
   "cell_type": "code",
   "execution_count": 7,
   "metadata": {},
   "outputs": [
    {
     "name": "stdout",
     "output_type": "stream",
     "text": [
      "Enter a number which is less than 20: 7\n",
      "Thank you\n"
     ]
    }
   ],
   "source": [
    "num1=int(input(\"Enter a number which is less than 20: \"))\n",
    "if num1 >=20:\n",
    "    print(\"Too high\")\n",
    "else:\n",
    "    print(\"Thank you\")"
   ]
  },
  {
   "cell_type": "code",
   "execution_count": 8,
   "metadata": {},
   "outputs": [
    {
     "name": "stdout",
     "output_type": "stream",
     "text": [
      "Enter a number with in range of 10 to 20: 19\n",
      "Thank you\n"
     ]
    }
   ],
   "source": [
    "num1=int(input(\"Enter a number with in range of 10 to 20: \"))\n",
    "if num1<10 or num1>20:\n",
    "    print(\"Incoorrect answer\")\n",
    "else:\n",
    "    print(\"Thank you\")"
   ]
  },
  {
   "cell_type": "code",
   "execution_count": 11,
   "metadata": {},
   "outputs": [
    {
     "name": "stdout",
     "output_type": "stream",
     "text": [
      "Enter your favorite colorRED\n",
      "I like too\n"
     ]
    }
   ],
   "source": [
    "color=(input(\"Enter your favorite color\")).lower()\n",
    "if color==\"red\":\n",
    "    print(\"I like too\")\n",
    "else:\n",
    "    print(f\"I dont like {color}, i prefer red\")\n",
    "    "
   ]
  },
  {
   "cell_type": "code",
   "execution_count": 13,
   "metadata": {},
   "outputs": [
    {
     "data": {
      "text/plain": [
       "'Dhjkf'"
      ]
     },
     "execution_count": 13,
     "metadata": {},
     "output_type": "execute_result"
    }
   ],
   "source": [
    "a=\"dhjkf\".capitalize()\n",
    "a"
   ]
  },
  {
   "cell_type": "code",
   "execution_count": 15,
   "metadata": {},
   "outputs": [
    {
     "data": {
      "text/plain": [
       "'Hi Good Morning'"
      ]
     },
     "execution_count": 15,
     "metadata": {},
     "output_type": "execute_result"
    }
   ],
   "source": [
    "a=\"hi good morning\".title()\n",
    "a"
   ]
  },
  {
   "cell_type": "code",
   "execution_count": 16,
   "metadata": {},
   "outputs": [
    {
     "name": "stdout",
     "output_type": "stream",
     "text": [
      "Enter your favorite colorf\n",
      "\n",
      "I dont like f, i prefer red\n"
     ]
    }
   ],
   "source": [
    "color=(input(\"Enter your favorite color\")).lower()\n",
    "print()\n",
    "if color==\"red\":\n",
    "    print(\"I like too\")\n",
    "else:\n",
    "    print(f\"I dont like {color}, i prefer red\")\n",
    "    "
   ]
  },
  {
   "cell_type": "code",
   "execution_count": 25,
   "metadata": {},
   "outputs": [
    {
     "name": "stdout",
     "output_type": "stream",
     "text": [
      "Enter your name meg\n",
      "Enter number 3\n",
      "meg\n",
      "meg\n",
      "meg\n"
     ]
    }
   ],
   "source": [
    "name=input(\"Enter your name \")\n",
    "numb=int(input(\"Enter number \"))\n",
    "for i in range(0,numb):\n",
    "    print(name)"
   ]
  },
  {
   "cell_type": "code",
   "execution_count": 31,
   "metadata": {},
   "outputs": [
    {
     "name": "stdout",
     "output_type": "stream",
     "text": [
      "Enter your name meg\n",
      "Enter number 2\n",
      "m\n",
      "\n",
      "e\n",
      "\n",
      "g\n",
      "\n",
      "m\n",
      "\n",
      "e\n",
      "\n",
      "g\n",
      "\n"
     ]
    }
   ],
   "source": [
    "name=input(\"Enter your name \")\n",
    "numb=int(input(\"Enter number \"))\n",
    "for x in range(0,numb):\n",
    "    for i in name:\n",
    "        print(i)\n",
    "        print()\n",
    "    "
   ]
  },
  {
   "cell_type": "code",
   "execution_count": 37,
   "metadata": {},
   "outputs": [
    {
     "name": "stdout",
     "output_type": "stream",
     "text": [
      "Enter number between 1 to 12: 11\n",
      "11\n",
      "22\n",
      "33\n",
      "44\n",
      "55\n",
      "66\n",
      "77\n",
      "88\n",
      "99\n",
      "110\n"
     ]
    }
   ],
   "source": [
    "numb=int(input(\"Enter number between 1 to 12: \"))\n",
    "if numb<12:\n",
    "    for i in range(1,11):\n",
    "        print(numb*i)\n",
    "else:\n",
    "    print(\"Invalid entry\")"
   ]
  },
  {
   "cell_type": "code",
   "execution_count": 39,
   "metadata": {},
   "outputs": [
    {
     "name": "stdout",
     "output_type": "stream",
     "text": [
      "Enter number below 50: 45\n",
      "50\n",
      "49\n",
      "48\n",
      "47\n",
      "46\n",
      "45\n"
     ]
    }
   ],
   "source": [
    "numb=int(input(\"Enter number below 50: \"))\n",
    "for i in range(50,numb-1,-1):\n",
    "    print(i)\n"
   ]
  },
  {
   "cell_type": "code",
   "execution_count": 52,
   "metadata": {},
   "outputs": [
    {
     "name": "stdout",
     "output_type": "stream",
     "text": [
      "Enter your name: Megha\n",
      "Enter number: 3\n",
      "Megha\n",
      "Megha\n",
      "Megha\n"
     ]
    }
   ],
   "source": [
    "name=input(\"Enter your name: \")\n",
    "num=int(input(\"Enter number: \"))\n",
    "if num<10:\n",
    "    for i in range(num):\n",
    "        print(name)\n",
    "else:\n",
    "    print(\"too high\")"
   ]
  },
  {
   "cell_type": "code",
   "execution_count": 51,
   "metadata": {},
   "outputs": [
    {
     "name": "stdout",
     "output_type": "stream",
     "text": [
      "Enter your name: Megha\n",
      "Enter number: 10\n",
      "too high\n",
      "too high\n",
      "too high\n"
     ]
    }
   ],
   "source": [
    "name=input(\"Enter your name: \")\n",
    "num=int(input(\"Enter number: \"))\n",
    "if num<10:\n",
    "    for i in range(num):\n",
    "        print(name)\n",
    "else:\n",
    "    for k in range(3):\n",
    "        print(\"too high\")"
   ]
  },
  {
   "cell_type": "code",
   "execution_count": 3,
   "metadata": {},
   "outputs": [
    {
     "name": "stdout",
     "output_type": "stream",
     "text": [
      "enter a number: 5\n",
      "you want to add this number? yes\n",
      "enter a number: 4\n",
      "you want to add this number? yes\n",
      "enter a number: 6\n",
      "you want to add this number? no\n",
      "enter a number: 4\n",
      "you want to add this number? yes\n",
      "enter a number: 5\n",
      "you want to add this number? yes\n",
      "18\n"
     ]
    }
   ],
   "source": [
    "total=0\n",
    "for i in range(5):\n",
    "    num=int(input(\"enter a number: \"))\n",
    "    q=input(\"you want to add this number? \")\n",
    "    if q==\"yes\":\n",
    "        total+=num\n",
    "    else:\n",
    "        continue\n",
    "print(total)\n",
    "\n",
    "    "
   ]
  },
  {
   "cell_type": "code",
   "execution_count": 2,
   "metadata": {},
   "outputs": [
    {
     "name": "stdout",
     "output_type": "stream",
     "text": [
      "Which direction you want to count: up\n",
      "enter a number5\n",
      "1\n",
      "2\n",
      "3\n",
      "4\n"
     ]
    }
   ],
   "source": [
    "dir=(input(\"Which direction you want to count: \")).lower()\n",
    "num=int(input(\"enter a number\"))\n",
    "if dir==\"up\":\n",
    "    for i in range(1,num):\n",
    "        print(i)\n",
    "elif dir==\"down\":\n",
    "    for j in range(num,1):\n",
    "        print(j)"
   ]
  },
  {
   "cell_type": "code",
   "execution_count": 3,
   "metadata": {},
   "outputs": [
    {
     "name": "stdout",
     "output_type": "stream",
     "text": [
      "Which direction you want to count: down\n",
      "enter a number5\n",
      "4\n",
      "3\n",
      "2\n",
      "1\n"
     ]
    }
   ],
   "source": [
    "dir=(input(\"Which direction you want to count: \")).lower()\n",
    "num=int(input(\"enter a number\"))\n",
    "if dir==\"up\":\n",
    "    for i in range(1,num):\n",
    "        print(i)\n",
    "elif dir==\"down\":\n",
    "    for j in range(num-1,0,-1):\n",
    "        print(j)\n",
    "else:\n",
    "    print(\"I didnt get\")"
   ]
  },
  {
   "cell_type": "code",
   "execution_count": 4,
   "metadata": {},
   "outputs": [
    {
     "name": "stdout",
     "output_type": "stream",
     "text": [
      "Enter number 3\n",
      "Enter number 4\n",
      "Enter number 5\n",
      "5\n"
     ]
    }
   ],
   "source": [
    "for i in range(10):\n",
    "    nu=int(input(\"Enter number \"))\n",
    "    if nu>=5:\n",
    "        print(nu)\n",
    "        break\n",
    "    else:\n",
    "        continue"
   ]
  },
  {
   "cell_type": "code",
   "execution_count": 1,
   "metadata": {},
   "outputs": [
    {
     "name": "stdout",
     "output_type": "stream",
     "text": [
      "Total 10 bottles are hanging on wall \n",
      "If 5 bottle should accidently fall \n",
      "how many bottles are remaining? 5\n",
      "yes your coorect\n",
      "Total 5 bottles are hanging on wall \n",
      "If 5 bottle should accidently fall \n",
      "how many bottles are remaining? 4\n",
      "your are wrong, try again5\n",
      "there are no bottles\n"
     ]
    }
   ],
   "source": [
    "num=10\n",
    "while num>0:\n",
    "    print(f\"Total {num} bottles are hanging on wall \")\n",
    "    num=num-5\n",
    "    print(\"If 5 bottle should accidently fall \")\n",
    "    ans=int(input(\"how many bottles are remaining? \"))\n",
    "    if ans==num:\n",
    "        print(\"yes your coorect\")\n",
    "    else:\n",
    "        ans=int(input(\"your are wrong, try again\"))\n",
    "print(\"there are no bottles\")\n",
    "        "
   ]
  },
  {
   "cell_type": "code",
   "execution_count": 4,
   "metadata": {},
   "outputs": [
    {
     "name": "stdout",
     "output_type": "stream",
     "text": [
      "0.9702191682403013\n",
      "97.02191682403013\n"
     ]
    }
   ],
   "source": [
    "import random\n",
    "num=random.random()\n",
    "print(num)\n",
    "num=num*100\n",
    "print(num)"
   ]
  },
  {
   "cell_type": "code",
   "execution_count": 5,
   "metadata": {},
   "outputs": [
    {
     "name": "stdout",
     "output_type": "stream",
     "text": [
      "0.15064969660282024\n",
      "15.064969660282024\n"
     ]
    }
   ],
   "source": [
    "import random\n",
    "num=random.random()\n",
    "print(num)\n",
    "num=num*100\n",
    "print(num)"
   ]
  },
  {
   "cell_type": "code",
   "execution_count": 10,
   "metadata": {},
   "outputs": [
    {
     "name": "stdout",
     "output_type": "stream",
     "text": [
      "9\n",
      "900\n"
     ]
    }
   ],
   "source": [
    "import random\n",
    "num=random.randint(7,9)\n",
    "print(num)\n",
    "num=num*100\n",
    "print(num)"
   ]
  },
  {
   "cell_type": "code",
   "execution_count": 13,
   "metadata": {},
   "outputs": [
    {
     "name": "stdout",
     "output_type": "stream",
     "text": [
      "3\n"
     ]
    }
   ],
   "source": [
    "import random\n",
    "num=random.randrange(1,6,2)\n",
    "print(num)"
   ]
  },
  {
   "cell_type": "code",
   "execution_count": 15,
   "metadata": {},
   "outputs": [
    {
     "name": "stdout",
     "output_type": "stream",
     "text": [
      "john\n"
     ]
    }
   ],
   "source": [
    "import random\n",
    "num=random.choice([\"megha\",\"vidya\",\"john\",\"rone\"])\n",
    "print(num)"
   ]
  },
  {
   "cell_type": "code",
   "execution_count": null,
   "metadata": {},
   "outputs": [],
   "source": [
    "import random\n",
    "num=random.choice([\"megha\",\"vidya\",\"john\",\"rone\"])\n",
    "print(num)"
   ]
  },
  {
   "cell_type": "code",
   "execution_count": 1,
   "metadata": {},
   "outputs": [
    {
     "name": "stdout",
     "output_type": "stream",
     "text": [
      "vidya\n",
      "your wrong\n"
     ]
    }
   ],
   "source": [
    "import random\n",
    "num=random.choice([\"megha\",\"vidya\",\"rone\"])\n",
    "print(num)\n",
    "while(num==\"megha\"):\n",
    "    print(\"Your right\")\n",
    "    num=random.choice([\"megha\",\"vidya\",\"rone\"])\n",
    "    print(num)\n",
    "print(\"your wrong\")"
   ]
  },
  {
   "cell_type": "code",
   "execution_count": 2,
   "metadata": {},
   "outputs": [
    {
     "name": "stdout",
     "output_type": "stream",
     "text": [
      "94\n"
     ]
    }
   ],
   "source": [
    "import random\n",
    "num=random.randrange(1,100)\n",
    "print(num)"
   ]
  },
  {
   "cell_type": "code",
   "execution_count": 3,
   "metadata": {},
   "outputs": [
    {
     "name": "stdout",
     "output_type": "stream",
     "text": [
      "7\n"
     ]
    }
   ],
   "source": [
    "import random\n",
    "num=random.randint(2,45)\n",
    "print(num)"
   ]
  },
  {
   "cell_type": "code",
   "execution_count": 6,
   "metadata": {},
   "outputs": [
    {
     "name": "stdout",
     "output_type": "stream",
     "text": [
      "a\n"
     ]
    }
   ],
   "source": [
    "import random \n",
    "choice=random.choice([\"a\",\"b\",\"r\"])\n",
    "print(choice)"
   ]
  },
  {
   "cell_type": "code",
   "execution_count": 7,
   "metadata": {},
   "outputs": [
    {
     "name": "stdout",
     "output_type": "stream",
     "text": [
      "18\n"
     ]
    }
   ],
   "source": [
    "import random\n",
    "num=random.randint(2,45)\n",
    "print(num)"
   ]
  },
  {
   "cell_type": "code",
   "execution_count": 8,
   "metadata": {},
   "outputs": [
    {
     "name": "stdout",
     "output_type": "stream",
     "text": [
      "Enter your guess: h\n",
      "Your wrong\n"
     ]
    }
   ],
   "source": [
    "import random\n",
    "choice=random.choice([\"H\",\"T\"])\n",
    "guess=(input(\"Enter your guess: \")).upper()\n",
    "if choice==guess:\n",
    "    print(\"Your guess is right\")\n",
    "else:\n",
    "    print(\"Your wrong\")"
   ]
  },
  {
   "cell_type": "code",
   "execution_count": 11,
   "metadata": {},
   "outputs": [
    {
     "name": "stdout",
     "output_type": "stream",
     "text": [
      "Enter your guess: h\n",
      "Your guess is right\n"
     ]
    }
   ],
   "source": [
    "import random\n",
    "choice=random.choice([\"H\",\"T\"])\n",
    "guess=(input(\"Enter your guess: \")).upper()\n",
    "if choice==guess:\n",
    "    print(\"Your guess is right\")\n",
    "else:\n",
    "    print(\"Your wrong, it is\",choice)"
   ]
  },
  {
   "cell_type": "code",
   "execution_count": 16,
   "metadata": {},
   "outputs": [
    {
     "name": "stdout",
     "output_type": "stream",
     "text": [
      "87 + 53 =  \n",
      "Enter your answer140\n",
      "77 + 64 =  \n",
      "Enter your answer141\n",
      "18 + 99 =  \n",
      "Enter your answer117\n",
      "92 + 82 =  \n",
      "Enter your answer174\n",
      "11 + 25 =  \n",
      "Enter your answer36\n",
      "Your score 5\n"
     ]
    }
   ],
   "source": [
    "import random\n",
    "score=0\n",
    "for i in range(1,6):\n",
    "    num1=random.randint(1,100)\n",
    "    num2=random.randint(1,100)\n",
    "    cans=num1+num2\n",
    "    print(num1,\"+\",num2,\"=\",\" \")\n",
    "    answer=int(input(\"Enter your answer\"))\n",
    "    if cans==answer:\n",
    "        score+=1\n",
    "    else:\n",
    "        continue\n",
    "print(\"Your score\",score)\n",
    "    "
   ]
  },
  {
   "cell_type": "code",
   "execution_count": 20,
   "metadata": {},
   "outputs": [
    {
     "name": "stdout",
     "output_type": "stream",
     "text": [
      "*\n",
      "**\n",
      "***\n",
      "****\n",
      "*****\n"
     ]
    }
   ],
   "source": [
    "i=1\n",
    "while i<=5:\n",
    "    print('*'*i)\n",
    "    i+=1\n",
    "    \n",
    "    "
   ]
  },
  {
   "cell_type": "code",
   "execution_count": 19,
   "metadata": {},
   "outputs": [
    {
     "name": "stdout",
     "output_type": "stream",
     "text": [
      "*****\n",
      "****\n",
      "***\n",
      "**\n",
      "*\n"
     ]
    }
   ],
   "source": [
    "i=5\n",
    "while i>=1:\n",
    "    print('*'*i)\n",
    "    i-=1"
   ]
  },
  {
   "cell_type": "code",
   "execution_count": 42,
   "metadata": {},
   "outputs": [
    {
     "name": "stdout",
     "output_type": "stream",
     "text": [
      "   *\n",
      "  **\n",
      " ***\n"
     ]
    }
   ],
   "source": [
    "star=1\n",
    "space=2\n",
    "for i in range(1,4):\n",
    "    print(\" \"*space,\"*\"*star)\n",
    "    star+=1\n",
    "    space-=1"
   ]
  },
  {
   "cell_type": "code",
   "execution_count": 43,
   "metadata": {},
   "outputs": [
    {
     "name": "stdout",
     "output_type": "stream",
     "text": [
      "     *  \n",
      "    **  \n",
      "   ***  \n"
     ]
    }
   ],
   "source": [
    "star=1\n",
    "space=2\n",
    "for i in range(1,4):\n",
    "    while space>=1:\n",
    "    print(\" \")\n",
    "    space-=1\n",
    "    while star<=3:\n",
    "    print(\"*\")  \n",
    "    star+=1\n",
    "    "
   ]
  },
  {
   "cell_type": "code",
   "execution_count": 63,
   "metadata": {},
   "outputs": [
    {
     "name": "stdout",
     "output_type": "stream",
     "text": [
      "      *  \n",
      "    *  *  \n",
      "  *  *  *  \n"
     ]
    }
   ],
   "source": [
    "star=1\n",
    "space=3\n",
    "for i in range(1,4):\n",
    "    for j in range(space):\n",
    "        print(\" \",end=\" \")\n",
    "    for k in range(star):\n",
    "        print(\"*\",end=\"  \")\n",
    "    print(\"\")\n",
    "    space-=1 \n",
    "    star+=1\n",
    "  \n"
   ]
  },
  {
   "cell_type": "code",
   "execution_count": 69,
   "metadata": {},
   "outputs": [
    {
     "name": "stdout",
     "output_type": "stream",
     "text": [
      "    * \n",
      "   *** \n",
      "  ***** \n",
      " ******* \n"
     ]
    }
   ],
   "source": [
    "star=1\n",
    "space=3\n",
    "for i in range(1,5):\n",
    "    print(\" \"*space,end=\" \")\n",
    "    print(\"*\"*star,end=\" \")\n",
    "    print(\"\")\n",
    "    space-=1\n",
    "    star+=2\n",
    "    "
   ]
  },
  {
   "cell_type": "code",
   "execution_count": 73,
   "metadata": {},
   "outputs": [
    {
     "name": "stdout",
     "output_type": "stream",
     "text": [
      "    * \n",
      "   *** \n",
      "  ***** \n",
      " ******* \n",
      " ******* \n",
      "  ***** \n",
      "   *** \n",
      "    * \n"
     ]
    }
   ],
   "source": [
    "def up():\n",
    "    star=1\n",
    "    space=3\n",
    "    for i in range(1,5):\n",
    "        print(\" \"*space,end=\" \")\n",
    "        print(\"*\"*star,end=\" \")\n",
    "        print(\"\")\n",
    "        space-=1\n",
    "        star+=2\n",
    "\n",
    "        \n",
    "\n",
    "def down():\n",
    "    star=7\n",
    "    space=0\n",
    "    for i in range(1,5):\n",
    "        print(\" \"*space,end=\" \")\n",
    "        print(\"*\"*star,end=\" \")\n",
    "        print(\"\")\n",
    "        space+=1\n",
    "        star-=2\n",
    "        \n",
    "\n",
    "up()\n",
    "down()\n",
    "    "
   ]
  },
  {
   "cell_type": "code",
   "execution_count": 1,
   "metadata": {},
   "outputs": [
    {
     "name": "stdout",
     "output_type": "stream",
     "text": [
      "    * \n",
      "   *** \n",
      "  ***** \n",
      " ******* \n",
      "  ***** \n",
      "   *** \n",
      "    * \n"
     ]
    }
   ],
   "source": [
    "def up():\n",
    "    star=1\n",
    "    space=3\n",
    "    for i in range(1,5):\n",
    "        if i==4:\n",
    "            break\n",
    "        print(\" \"*space,end=\" \")\n",
    "        print(\"*\"*star,end=\" \")\n",
    "        print(\"\")\n",
    "        space-=1\n",
    "        star+=2\n",
    "\n",
    "        \n",
    "\n",
    "def down():\n",
    "    star=7\n",
    "    space=0\n",
    "    for i in range(1,5):\n",
    "        print(\" \"*space,end=\" \")\n",
    "        print(\"*\"*star,end=\" \")\n",
    "        print(\"\")\n",
    "        space+=1\n",
    "        star-=2\n",
    "        \n",
    "\n",
    "up()\n",
    "down()\n",
    "    "
   ]
  },
  {
   "cell_type": "code",
   "execution_count": 8,
   "metadata": {},
   "outputs": [
    {
     "name": "stdout",
     "output_type": "stream",
     "text": [
      "a\n"
     ]
    }
   ],
   "source": [
    "ch=97\n",
    "print(chr(ch))"
   ]
  },
  {
   "cell_type": "code",
   "execution_count": 14,
   "metadata": {},
   "outputs": [
    {
     "name": "stdout",
     "output_type": "stream",
     "text": [
      "a \n",
      "bb \n",
      "ccc \n",
      "dddd \n",
      "eeeee \n"
     ]
    }
   ],
   "source": [
    "ch=97\n",
    "i=1\n",
    "while i<=5:\n",
    "    for j in range(i):\n",
    "        print(chr(ch),end=\"\")\n",
    "    print(\" \")\n",
    "    i+=1\n",
    "    ch+=1"
   ]
  },
  {
   "cell_type": "code",
   "execution_count": 19,
   "metadata": {},
   "outputs": [
    {
     "name": "stdout",
     "output_type": "stream",
     "text": [
      "EEEEE \n",
      "DDDD \n",
      "CCC \n",
      "BB \n",
      "A \n"
     ]
    }
   ],
   "source": [
    "ch=69\n",
    "i=5\n",
    "while i>=1:\n",
    "    for j in range(i):\n",
    "        print(chr(ch),end=\"\")\n",
    "    print(\" \")\n",
    "    i-=1\n",
    "    ch-=1"
   ]
  },
  {
   "cell_type": "code",
   "execution_count": 21,
   "metadata": {},
   "outputs": [
    {
     "name": "stdout",
     "output_type": "stream",
     "text": [
      "          * \n",
      "        * * * \n",
      "      * * * * * \n",
      "    * * * * * * * \n"
     ]
    }
   ],
   "source": [
    "star=1\n",
    "space=5\n",
    "for i in range(1,5):\n",
    "    for j in range(space):\n",
    "        print(\" \",end=\" \")\n",
    "    for k in range(star):\n",
    "        print(\"*\",end=\" \")\n",
    "    print(\"\")\n",
    "    star+=2\n",
    "    space-=1"
   ]
  },
  {
   "cell_type": "code",
   "execution_count": 23,
   "metadata": {},
   "outputs": [
    {
     "name": "stdout",
     "output_type": "stream",
     "text": [
      "          A \n",
      "        B B B \n",
      "      C C C C C \n",
      "    D D D D D D D \n"
     ]
    }
   ],
   "source": [
    "star=1\n",
    "space=5\n",
    "ch=65\n",
    "for i in range(1,5):\n",
    "    for j in range(space):\n",
    "        print(\" \",end=\" \")\n",
    "    for k in range(star):\n",
    "        print(chr(ch),end=\" \")\n",
    "    print(\"\")\n",
    "    star+=2\n",
    "    space-=1\n",
    "    ch+=1"
   ]
  },
  {
   "cell_type": "code",
   "execution_count": 38,
   "metadata": {},
   "outputs": [
    {
     "name": "stdout",
     "output_type": "stream",
     "text": [
      "* * * * * \n",
      "*       * \n",
      "*       * \n",
      "*       * \n",
      "* * * * * \n"
     ]
    }
   ],
   "source": [
    "for i in range(1,6):\n",
    "    for j in range(1,6):\n",
    "        if (i==2 or i==3 or i==4) and (j==2 or j==3 or j==4):\n",
    "            print(\" \",end=\" \")\n",
    "        else:\n",
    "            print(\"*\",end=\" \")\n",
    "    print(\"\")"
   ]
  },
  {
   "cell_type": "code",
   "execution_count": 43,
   "metadata": {},
   "outputs": [
    {
     "name": "stdout",
     "output_type": "stream",
     "text": [
      "* * * * * * * * * \n",
      "* * * * * * * * * \n",
      "* * * * * * * * * \n",
      "* * * * * * * * * \n",
      "* * * * * * * * * \n",
      "* * * * * * * * * \n",
      "* * * * * * * * * \n",
      "* * * * * * * * * \n",
      "* * * * * * * * * \n"
     ]
    }
   ],
   "source": [
    "for i in range(1,10):\n",
    "    for j in range(1,10):\n",
    "        if ((h for h in range(2,9))==i) and ((l for l in range(2,9))==j):\n",
    "            print(\" \",end=\" \")\n",
    "        else:\n",
    "            print(\"*\",end=\" \")\n",
    "        print(\"\")"
   ]
  },
  {
   "cell_type": "code",
   "execution_count": 65,
   "metadata": {},
   "outputs": [
    {
     "name": "stdout",
     "output_type": "stream",
     "text": [
      "  *  *  *  *\n",
      "  *  *  *  *\n",
      "  *  *  *  *\n",
      "  *  *  *  *\n"
     ]
    }
   ],
   "source": [
    "for i in range(1,5):\n",
    "    for j in range(1,5):\n",
    "        for h in range(2,4):\n",
    "            if i==j and \n",
    "             print(\" \",end=\"\")\n",
    "        print(\"*\",end=\"\")\n",
    "    print(\"\")\n",
    "        "
   ]
  },
  {
   "cell_type": "code",
   "execution_count": 73,
   "metadata": {},
   "outputs": [
    {
     "name": "stdout",
     "output_type": "stream",
     "text": [
      "***** \n",
      "    \n",
      "    \n",
      "***** \n"
     ]
    }
   ],
   "source": [
    "num=5\n",
    "for i in range(1,num):\n",
    "    for k in range(1,num):\n",
    "        if i==1 or i==4:\n",
    "            print(\"*\"*num,end=\" \")\n",
    "        else:\n",
    "            if k==1 and k==2:\n",
    "            print(\"*\",end=\" \")\n",
    "        else:\n",
    "            print(\" \",end=\"\")\n",
    "    print(\"\")\n",
    "        \n",
    "  "
   ]
  },
  {
   "cell_type": "code",
   "execution_count": 32,
   "metadata": {},
   "outputs": [
    {
     "name": "stdout",
     "output_type": "stream",
     "text": [
      "******\n",
      "*    *\n",
      "*    *\n",
      "*    *\n",
      "*    *\n",
      "******\n"
     ]
    }
   ],
   "source": [
    "num=7\n",
    "for i in range(1,num):\n",
    "    for j in range(1,num):\n",
    "        if (i==1 or i==6 or j==1 or j==6):\n",
    "            print(\"*\",end=\"\")\n",
    "        else:\n",
    "            print(\" \",end=\"\")\n",
    "    print(\"\")\n",
    "        \n",
    "  "
   ]
  },
  {
   "cell_type": "code",
   "execution_count": 31,
   "metadata": {},
   "outputs": [
    {
     "name": "stdout",
     "output_type": "stream",
     "text": [
      "* * * * * * * \n",
      "*      * \n",
      "*      * \n",
      "*      * \n",
      "*      * \n",
      "*      * \n",
      "* * * * * * * \n"
     ]
    }
   ],
   "source": [
    "num=7\n",
    "for i in range(num):\n",
    "    for j in range(num):\n",
    "        if (i==0 or i==num-1 or j==0 or j==num-1):\n",
    "            print(\"*\",end=\" \")\n",
    "        else:\n",
    "            print(\" \",end=\"\")\n",
    "    print()\n",
    "        "
   ]
  },
  {
   "cell_type": "code",
   "execution_count": 28,
   "metadata": {},
   "outputs": [
    {
     "name": "stdout",
     "output_type": "stream",
     "text": [
      "enter the side of the square: 10\n",
      "* * * * * * * * * * \n",
      "*                 * \n",
      "*                 * \n",
      "*                 * \n",
      "*                 * \n",
      "*                 * \n",
      "*                 * \n",
      "*                 * \n",
      "*                 * \n",
      "* * * * * * * * * * \n"
     ]
    }
   ],
   "source": [
    "len=int(input(\"enter the side of the square: \"))\n",
    "for i in range(len):\n",
    "    for j in range(len):\n",
    "        if (i==0 or i==len-1 or j==0 or j==len-1):\n",
    "           print(\"*\",end=\" \")\n",
    "        else:\n",
    "           print(\" \",end=\" \")\n",
    "    print()"
   ]
  },
  {
   "cell_type": "code",
   "execution_count": null,
   "metadata": {},
   "outputs": [],
   "source": []
  }
 ],
 "metadata": {
  "kernelspec": {
   "display_name": "Python 3",
   "language": "python",
   "name": "python3"
  },
  "language_info": {
   "codemirror_mode": {
    "name": "ipython",
    "version": 3
   },
   "file_extension": ".py",
   "mimetype": "text/x-python",
   "name": "python",
   "nbconvert_exporter": "python",
   "pygments_lexer": "ipython3",
   "version": "3.7.4"
  }
 },
 "nbformat": 4,
 "nbformat_minor": 2
}
